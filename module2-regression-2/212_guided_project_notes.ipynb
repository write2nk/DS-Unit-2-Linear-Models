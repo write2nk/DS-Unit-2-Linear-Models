{
  "nbformat": 4,
  "nbformat_minor": 0,
  "metadata": {
    "colab": {
      "name": "212_guided-project-notes.ipynb",
      "provenance": []
    },
    "kernelspec": {
      "name": "python3",
      "display_name": "Python 3"
    },
    "widgets": {
      "application/vnd.jupyter.widget-state+json": {
        "257441eaef94453abb43c3b5bfd4c84d": {
          "model_module": "@jupyter-widgets/controls",
          "model_name": "VBoxModel",
          "state": {
            "_view_name": "VBoxView",
            "_dom_classes": [
              "widget-interact"
            ],
            "_model_name": "VBoxModel",
            "_view_module": "@jupyter-widgets/controls",
            "_model_module_version": "1.5.0",
            "_view_count": null,
            "_view_module_version": "1.5.0",
            "box_style": "",
            "layout": "IPY_MODEL_6b5b61a1beb54aa6a74ed2260bbe68b5",
            "_model_module": "@jupyter-widgets/controls",
            "children": [
              "IPY_MODEL_7bf65c58971e47a58031c02be129cfd2",
              "IPY_MODEL_f273b072dc0a4dea87c636b51098af1c",
              "IPY_MODEL_fcef9847c8934b64a4b9095b7e79c042"
            ]
          }
        },
        "6b5b61a1beb54aa6a74ed2260bbe68b5": {
          "model_module": "@jupyter-widgets/base",
          "model_name": "LayoutModel",
          "state": {
            "_view_name": "LayoutView",
            "grid_template_rows": null,
            "right": null,
            "justify_content": null,
            "_view_module": "@jupyter-widgets/base",
            "overflow": null,
            "_model_module_version": "1.2.0",
            "_view_count": null,
            "flex_flow": null,
            "width": null,
            "min_width": null,
            "border": null,
            "align_items": null,
            "bottom": null,
            "_model_module": "@jupyter-widgets/base",
            "top": null,
            "grid_column": null,
            "overflow_y": null,
            "overflow_x": null,
            "grid_auto_flow": null,
            "grid_area": null,
            "grid_template_columns": null,
            "flex": null,
            "_model_name": "LayoutModel",
            "justify_items": null,
            "grid_row": null,
            "max_height": null,
            "align_content": null,
            "visibility": null,
            "align_self": null,
            "height": null,
            "min_height": null,
            "padding": null,
            "grid_auto_rows": null,
            "grid_gap": null,
            "max_width": null,
            "order": null,
            "_view_module_version": "1.2.0",
            "grid_template_areas": null,
            "object_position": null,
            "object_fit": null,
            "grid_auto_columns": null,
            "margin": null,
            "display": null,
            "left": null
          }
        },
        "7bf65c58971e47a58031c02be129cfd2": {
          "model_module": "@jupyter-widgets/controls",
          "model_name": "FloatSliderModel",
          "state": {
            "_view_name": "FloatSliderView",
            "style": "IPY_MODEL_5cec0f4020d344e2b10f101ad0baabdf",
            "_dom_classes": [],
            "description": "slope",
            "step": 0.5,
            "_model_name": "FloatSliderModel",
            "orientation": "horizontal",
            "max": 5,
            "_view_module": "@jupyter-widgets/controls",
            "_model_module_version": "1.5.0",
            "value": -2.5,
            "_view_count": null,
            "disabled": false,
            "_view_module_version": "1.5.0",
            "min": -5,
            "continuous_update": true,
            "readout_format": ".2f",
            "description_tooltip": null,
            "readout": true,
            "_model_module": "@jupyter-widgets/controls",
            "layout": "IPY_MODEL_6fababddaa554af88597944dfe418db3"
          }
        },
        "f273b072dc0a4dea87c636b51098af1c": {
          "model_module": "@jupyter-widgets/controls",
          "model_name": "FloatSliderModel",
          "state": {
            "_view_name": "FloatSliderView",
            "style": "IPY_MODEL_f8665508bd8d442f8eb013e6a2232b6c",
            "_dom_classes": [],
            "description": "intercept",
            "step": 2,
            "_model_name": "FloatSliderModel",
            "orientation": "horizontal",
            "max": 61.79,
            "_view_module": "@jupyter-widgets/controls",
            "_model_module_version": "1.5.0",
            "value": 51.82823529411765,
            "_view_count": null,
            "disabled": false,
            "_view_module_version": "1.5.0",
            "min": 44,
            "continuous_update": true,
            "readout_format": ".2f",
            "description_tooltip": null,
            "readout": true,
            "_model_module": "@jupyter-widgets/controls",
            "layout": "IPY_MODEL_80d3a5028be243789d9fdad7a50b9b9e"
          }
        },
        "fcef9847c8934b64a4b9095b7e79c042": {
          "model_module": "@jupyter-widgets/output",
          "model_name": "OutputModel",
          "state": {
            "_view_name": "OutputView",
            "msg_id": "",
            "_dom_classes": [],
            "_model_name": "OutputModel",
            "outputs": [
              {
                "output_type": "display_data",
                "metadata": {
                  "tags": [],
                  "needs_background": "light"
                },
                "image/png": "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\n",
                "text/plain": "<Figure size 1440x432 with 2 Axes>"
              }
            ],
            "_view_module": "@jupyter-widgets/output",
            "_model_module_version": "1.0.0",
            "_view_count": null,
            "_view_module_version": "1.0.0",
            "layout": "IPY_MODEL_ccb550cf55b3442fa31a18d6250c003c",
            "_model_module": "@jupyter-widgets/output"
          }
        },
        "5cec0f4020d344e2b10f101ad0baabdf": {
          "model_module": "@jupyter-widgets/controls",
          "model_name": "SliderStyleModel",
          "state": {
            "_view_name": "StyleView",
            "handle_color": null,
            "_model_name": "SliderStyleModel",
            "description_width": "",
            "_view_module": "@jupyter-widgets/base",
            "_model_module_version": "1.5.0",
            "_view_count": null,
            "_view_module_version": "1.2.0",
            "_model_module": "@jupyter-widgets/controls"
          }
        },
        "6fababddaa554af88597944dfe418db3": {
          "model_module": "@jupyter-widgets/base",
          "model_name": "LayoutModel",
          "state": {
            "_view_name": "LayoutView",
            "grid_template_rows": null,
            "right": null,
            "justify_content": null,
            "_view_module": "@jupyter-widgets/base",
            "overflow": null,
            "_model_module_version": "1.2.0",
            "_view_count": null,
            "flex_flow": null,
            "width": null,
            "min_width": null,
            "border": null,
            "align_items": null,
            "bottom": null,
            "_model_module": "@jupyter-widgets/base",
            "top": null,
            "grid_column": null,
            "overflow_y": null,
            "overflow_x": null,
            "grid_auto_flow": null,
            "grid_area": null,
            "grid_template_columns": null,
            "flex": null,
            "_model_name": "LayoutModel",
            "justify_items": null,
            "grid_row": null,
            "max_height": null,
            "align_content": null,
            "visibility": null,
            "align_self": null,
            "height": null,
            "min_height": null,
            "padding": null,
            "grid_auto_rows": null,
            "grid_gap": null,
            "max_width": null,
            "order": null,
            "_view_module_version": "1.2.0",
            "grid_template_areas": null,
            "object_position": null,
            "object_fit": null,
            "grid_auto_columns": null,
            "margin": null,
            "display": null,
            "left": null
          }
        },
        "f8665508bd8d442f8eb013e6a2232b6c": {
          "model_module": "@jupyter-widgets/controls",
          "model_name": "SliderStyleModel",
          "state": {
            "_view_name": "StyleView",
            "handle_color": null,
            "_model_name": "SliderStyleModel",
            "description_width": "",
            "_view_module": "@jupyter-widgets/base",
            "_model_module_version": "1.5.0",
            "_view_count": null,
            "_view_module_version": "1.2.0",
            "_model_module": "@jupyter-widgets/controls"
          }
        },
        "80d3a5028be243789d9fdad7a50b9b9e": {
          "model_module": "@jupyter-widgets/base",
          "model_name": "LayoutModel",
          "state": {
            "_view_name": "LayoutView",
            "grid_template_rows": null,
            "right": null,
            "justify_content": null,
            "_view_module": "@jupyter-widgets/base",
            "overflow": null,
            "_model_module_version": "1.2.0",
            "_view_count": null,
            "flex_flow": null,
            "width": null,
            "min_width": null,
            "border": null,
            "align_items": null,
            "bottom": null,
            "_model_module": "@jupyter-widgets/base",
            "top": null,
            "grid_column": null,
            "overflow_y": null,
            "overflow_x": null,
            "grid_auto_flow": null,
            "grid_area": null,
            "grid_template_columns": null,
            "flex": null,
            "_model_name": "LayoutModel",
            "justify_items": null,
            "grid_row": null,
            "max_height": null,
            "align_content": null,
            "visibility": null,
            "align_self": null,
            "height": null,
            "min_height": null,
            "padding": null,
            "grid_auto_rows": null,
            "grid_gap": null,
            "max_width": null,
            "order": null,
            "_view_module_version": "1.2.0",
            "grid_template_areas": null,
            "object_position": null,
            "object_fit": null,
            "grid_auto_columns": null,
            "margin": null,
            "display": null,
            "left": null
          }
        },
        "ccb550cf55b3442fa31a18d6250c003c": {
          "model_module": "@jupyter-widgets/base",
          "model_name": "LayoutModel",
          "state": {
            "_view_name": "LayoutView",
            "grid_template_rows": null,
            "right": null,
            "justify_content": null,
            "_view_module": "@jupyter-widgets/base",
            "overflow": null,
            "_model_module_version": "1.2.0",
            "_view_count": null,
            "flex_flow": null,
            "width": null,
            "min_width": null,
            "border": null,
            "align_items": null,
            "bottom": null,
            "_model_module": "@jupyter-widgets/base",
            "top": null,
            "grid_column": null,
            "overflow_y": null,
            "overflow_x": null,
            "grid_auto_flow": null,
            "grid_area": null,
            "grid_template_columns": null,
            "flex": null,
            "_model_name": "LayoutModel",
            "justify_items": null,
            "grid_row": null,
            "max_height": null,
            "align_content": null,
            "visibility": null,
            "align_self": null,
            "height": null,
            "min_height": null,
            "padding": null,
            "grid_auto_rows": null,
            "grid_gap": null,
            "max_width": null,
            "order": null,
            "_view_module_version": "1.2.0",
            "grid_template_areas": null,
            "object_position": null,
            "object_fit": null,
            "grid_auto_columns": null,
            "margin": null,
            "display": null,
            "left": null
          }
        }
      }
    }
  },
  "cells": [
    {
      "cell_type": "code",
      "metadata": {
        "id": "gUcWhX-0r9gl"
      },
      "source": [
        "# Libraries for R^2 visualization\n",
        "from ipywidgets import interactive, IntSlider, FloatSlider\n",
        "from math import floor, ceil\n",
        "from sklearn.base import BaseEstimator, RegressorMixin\n",
        "\n",
        "# Libraries for model building\n",
        "from sklearn.linear_model import LinearRegression\n",
        "from sklearn.metrics import mean_absolute_error, mean_squared_error, r2_score\n",
        "import matplotlib.pyplot as plt\n",
        "import numpy as np\n",
        "import pandas as pd\n",
        "\n",
        "# Library for working locally or Colab\n",
        "import sys"
      ],
      "execution_count": 2,
      "outputs": []
    },
    {
      "cell_type": "code",
      "metadata": {
        "id": "E5WTvJFCWQjx"
      },
      "source": [
        "# If you're on Colab:\n",
        "if 'google.colab' in sys.modules:\n",
        "    DATA_PATH = 'https://raw.githubusercontent.com/LambdaSchool/DS-Unit-2-Applied-Modeling/master/data/'\n",
        "\n",
        "# If you're working locally:\n",
        "else:\n",
        "    DATA_PATH = '../data/'"
      ],
      "execution_count": 3,
      "outputs": []
    },
    {
      "cell_type": "markdown",
      "metadata": {
        "id": "TGelVAREWyrN"
      },
      "source": [
        "# I. Wrangle Data"
      ]
    },
    {
      "cell_type": "code",
      "metadata": {
        "id": "QMTMpPnjI9mQ",
        "outputId": "438328f2-c75a-4cf1-fe8e-f3bc16f43a02",
        "colab": {
          "base_uri": "https://localhost:8080/",
          "height": 623
        }
      },
      "source": [
        "#import our data\n",
        "import pandas as pd\n",
        "col_names = ['year', 'incumbent', 'chalenger', 'income', 'fatalities', 'incumbent_vote_share']\n",
        "df = pd.read_csv(DATA_PATH + 'elections/bread_peace_voting.csv', names = col_names, header= 0, index_col= 'year')\n",
        "print(df.shape)\n",
        "df"
      ],
      "execution_count": 34,
      "outputs": [
        {
          "output_type": "stream",
          "text": [
            "(17, 5)\n"
          ],
          "name": "stdout"
        },
        {
          "output_type": "execute_result",
          "data": {
            "text/html": [
              "<div>\n",
              "<style scoped>\n",
              "    .dataframe tbody tr th:only-of-type {\n",
              "        vertical-align: middle;\n",
              "    }\n",
              "\n",
              "    .dataframe tbody tr th {\n",
              "        vertical-align: top;\n",
              "    }\n",
              "\n",
              "    .dataframe thead th {\n",
              "        text-align: right;\n",
              "    }\n",
              "</style>\n",
              "<table border=\"1\" class=\"dataframe\">\n",
              "  <thead>\n",
              "    <tr style=\"text-align: right;\">\n",
              "      <th></th>\n",
              "      <th>incumbent</th>\n",
              "      <th>chalenger</th>\n",
              "      <th>income</th>\n",
              "      <th>fatalities</th>\n",
              "      <th>incumbent_vote_share</th>\n",
              "    </tr>\n",
              "    <tr>\n",
              "      <th>year</th>\n",
              "      <th></th>\n",
              "      <th></th>\n",
              "      <th></th>\n",
              "      <th></th>\n",
              "      <th></th>\n",
              "    </tr>\n",
              "  </thead>\n",
              "  <tbody>\n",
              "    <tr>\n",
              "      <th>1952</th>\n",
              "      <td>Stevenson</td>\n",
              "      <td>Eisenhower</td>\n",
              "      <td>2.40</td>\n",
              "      <td>190</td>\n",
              "      <td>44.60</td>\n",
              "    </tr>\n",
              "    <tr>\n",
              "      <th>1956</th>\n",
              "      <td>Eisenhower</td>\n",
              "      <td>Stevenson</td>\n",
              "      <td>2.89</td>\n",
              "      <td>0</td>\n",
              "      <td>57.76</td>\n",
              "    </tr>\n",
              "    <tr>\n",
              "      <th>1960</th>\n",
              "      <td>Nixon</td>\n",
              "      <td>Kennedy</td>\n",
              "      <td>0.85</td>\n",
              "      <td>0</td>\n",
              "      <td>49.91</td>\n",
              "    </tr>\n",
              "    <tr>\n",
              "      <th>1964</th>\n",
              "      <td>Johnson</td>\n",
              "      <td>Goldwater</td>\n",
              "      <td>4.21</td>\n",
              "      <td>1</td>\n",
              "      <td>61.34</td>\n",
              "    </tr>\n",
              "    <tr>\n",
              "      <th>1968</th>\n",
              "      <td>Humphrey</td>\n",
              "      <td>Nixon</td>\n",
              "      <td>3.02</td>\n",
              "      <td>146</td>\n",
              "      <td>49.60</td>\n",
              "    </tr>\n",
              "    <tr>\n",
              "      <th>1972</th>\n",
              "      <td>Nixon</td>\n",
              "      <td>McGovern</td>\n",
              "      <td>3.62</td>\n",
              "      <td>0</td>\n",
              "      <td>61.79</td>\n",
              "    </tr>\n",
              "    <tr>\n",
              "      <th>1976</th>\n",
              "      <td>Ford</td>\n",
              "      <td>Carter</td>\n",
              "      <td>1.08</td>\n",
              "      <td>2</td>\n",
              "      <td>48.95</td>\n",
              "    </tr>\n",
              "    <tr>\n",
              "      <th>1980</th>\n",
              "      <td>Carter</td>\n",
              "      <td>Reagan</td>\n",
              "      <td>-0.39</td>\n",
              "      <td>0</td>\n",
              "      <td>44.70</td>\n",
              "    </tr>\n",
              "    <tr>\n",
              "      <th>1984</th>\n",
              "      <td>Reagan</td>\n",
              "      <td>Mondale</td>\n",
              "      <td>3.86</td>\n",
              "      <td>0</td>\n",
              "      <td>59.17</td>\n",
              "    </tr>\n",
              "    <tr>\n",
              "      <th>1988</th>\n",
              "      <td>Bush, Sr.</td>\n",
              "      <td>Dukakis</td>\n",
              "      <td>2.27</td>\n",
              "      <td>0</td>\n",
              "      <td>53.94</td>\n",
              "    </tr>\n",
              "    <tr>\n",
              "      <th>1992</th>\n",
              "      <td>Bush, Sr.</td>\n",
              "      <td>Clinton</td>\n",
              "      <td>0.38</td>\n",
              "      <td>0</td>\n",
              "      <td>46.55</td>\n",
              "    </tr>\n",
              "    <tr>\n",
              "      <th>1996</th>\n",
              "      <td>Clinton</td>\n",
              "      <td>Dole</td>\n",
              "      <td>1.04</td>\n",
              "      <td>0</td>\n",
              "      <td>54.74</td>\n",
              "    </tr>\n",
              "    <tr>\n",
              "      <th>2000</th>\n",
              "      <td>Gore</td>\n",
              "      <td>Bush, Jr.</td>\n",
              "      <td>2.36</td>\n",
              "      <td>0</td>\n",
              "      <td>50.27</td>\n",
              "    </tr>\n",
              "    <tr>\n",
              "      <th>2004</th>\n",
              "      <td>Bush, Jr.</td>\n",
              "      <td>Kerry</td>\n",
              "      <td>1.72</td>\n",
              "      <td>4</td>\n",
              "      <td>51.24</td>\n",
              "    </tr>\n",
              "    <tr>\n",
              "      <th>2008</th>\n",
              "      <td>McCain</td>\n",
              "      <td>Obama</td>\n",
              "      <td>0.10</td>\n",
              "      <td>14</td>\n",
              "      <td>46.32</td>\n",
              "    </tr>\n",
              "    <tr>\n",
              "      <th>2012</th>\n",
              "      <td>Obama</td>\n",
              "      <td>Romney</td>\n",
              "      <td>0.95</td>\n",
              "      <td>5</td>\n",
              "      <td>52.00</td>\n",
              "    </tr>\n",
              "    <tr>\n",
              "      <th>2016</th>\n",
              "      <td>Clinton</td>\n",
              "      <td>Trump</td>\n",
              "      <td>0.10</td>\n",
              "      <td>5</td>\n",
              "      <td>48.20</td>\n",
              "    </tr>\n",
              "  </tbody>\n",
              "</table>\n",
              "</div>"
            ],
            "text/plain": [
              "       incumbent   chalenger  income  fatalities  incumbent_vote_share\n",
              "year                                                                  \n",
              "1952   Stevenson  Eisenhower    2.40         190                 44.60\n",
              "1956  Eisenhower   Stevenson    2.89           0                 57.76\n",
              "1960       Nixon     Kennedy    0.85           0                 49.91\n",
              "1964     Johnson   Goldwater    4.21           1                 61.34\n",
              "1968    Humphrey       Nixon    3.02         146                 49.60\n",
              "1972       Nixon    McGovern    3.62           0                 61.79\n",
              "1976        Ford      Carter    1.08           2                 48.95\n",
              "1980      Carter      Reagan   -0.39           0                 44.70\n",
              "1984      Reagan     Mondale    3.86           0                 59.17\n",
              "1988   Bush, Sr.     Dukakis    2.27           0                 53.94\n",
              "1992   Bush, Sr.     Clinton    0.38           0                 46.55\n",
              "1996     Clinton        Dole    1.04           0                 54.74\n",
              "2000        Gore   Bush, Jr.    2.36           0                 50.27\n",
              "2004   Bush, Jr.       Kerry    1.72           4                 51.24\n",
              "2008      McCain       Obama    0.10          14                 46.32\n",
              "2012       Obama      Romney    0.95           5                 52.00\n",
              "2016     Clinton       Trump    0.10           5                 48.20"
            ]
          },
          "metadata": {
            "tags": []
          },
          "execution_count": 34
        }
      ]
    },
    {
      "cell_type": "markdown",
      "metadata": {
        "id": "k0Pl83iD6Zt7"
      },
      "source": [
        "Perfom EDA"
      ]
    },
    {
      "cell_type": "code",
      "metadata": {
        "id": "-V-yxM2B1nJ2",
        "outputId": "7b498786-9bfa-4ec0-d39a-1a0736c5111e",
        "colab": {
          "base_uri": "https://localhost:8080/"
        }
      },
      "source": [
        "# get the information about the data, we have 2 categorical data, because Linear Reg is a mathematical model, we cant use it\n",
        "df.info()"
      ],
      "execution_count": 23,
      "outputs": [
        {
          "output_type": "stream",
          "text": [
            "<class 'pandas.core.frame.DataFrame'>\n",
            "RangeIndex: 17 entries, 0 to 16\n",
            "Data columns (total 6 columns):\n",
            " #   Column                Non-Null Count  Dtype  \n",
            "---  ------                --------------  -----  \n",
            " 0   year                  17 non-null     int64  \n",
            " 1   incumbent             17 non-null     object \n",
            " 2   chalenger             17 non-null     object \n",
            " 3   income                17 non-null     float64\n",
            " 4   fatalities            17 non-null     int64  \n",
            " 5   incumbent_vote_share  17 non-null     float64\n",
            "dtypes: float64(2), int64(2), object(2)\n",
            "memory usage: 944.0+ bytes\n"
          ],
          "name": "stdout"
        }
      ]
    },
    {
      "cell_type": "code",
      "metadata": {
        "id": "ZEHEtkVD6sJW",
        "outputId": "9681d5c5-bc98-4bb4-a788-9001a5467b35",
        "colab": {
          "base_uri": "https://localhost:8080/",
          "height": 416
        }
      },
      "source": [
        "#lets visualize the relationship between between Income and vote share\n",
        "\n",
        "import seaborn as sns\n",
        "sns.lmplot(x = 'income', y = 'incumbent_vote_share', data = df,ci= None)\n",
        "plt.xlabel('Recent Growth in Personal Income')\n",
        "plt.ylabel('Incumbent Party Vote Share [%]')\n",
        "plt.title('relationship between between Income and vote share')\n"
      ],
      "execution_count": 29,
      "outputs": [
        {
          "output_type": "execute_result",
          "data": {
            "text/plain": [
              "Text(0.5, 1.0, 'relationship between between Income and vote share')"
            ]
          },
          "metadata": {
            "tags": []
          },
          "execution_count": 29
        },
        {
          "output_type": "display_data",
          "data": {
            "image/png": "[encoded data removed]",
            "text/plain": [
              "<Figure size 360x360 with 1 Axes>"
            ]
          },
          "metadata": {
            "tags": [],
            "needs_background": "light"
          }
        }
      ]
    },
    {
      "cell_type": "code",
      "metadata": {
        "id": "L1cAGyaY60YD",
        "outputId": "d3280c7c-edb8-4fd2-c436-0a709f5d1e15",
        "colab": {
          "base_uri": "https://localhost:8080/",
          "height": 416
        }
      },
      "source": [
        "#lets visualize the relationship between between vote share and fatalities\n",
        "\n",
        "import seaborn as sns\n",
        "sns.lmplot(x = 'fatalities', y = 'incumbent_vote_share', data = df,ci= None)\n",
        "plt.xlabel('Recent rate of Fatalities')\n",
        "plt.ylabel('Recent Incumbent party vote share')\n",
        "plt.title('relationship between falalities and incumbent vote share')"
      ],
      "execution_count": 27,
      "outputs": [
        {
          "output_type": "execute_result",
          "data": {
            "text/plain": [
              "Text(0.5, 1.0, 'relationship between falalities and incumbent vote share')"
            ]
          },
          "metadata": {
            "tags": []
          },
          "execution_count": 27
        },
        {
          "output_type": "display_data",
          "data": {
            "image/png": "[encoded data removed]",
            "text/plain": [
              "<Figure size 360x360 with 1 Axes>"
            ]
          },
          "metadata": {
            "tags": [],
            "needs_background": "light"
          }
        }
      ]
    },
    {
      "cell_type": "code",
      "metadata": {
        "id": "8cTSdKOIMAfP"
      },
      "source": [
        "#df = wrangle(DATA_PATH + 'elections/bread_peace_voting.csv')"
      ],
      "execution_count": 14,
      "outputs": []
    },
    {
      "cell_type": "markdown",
      "metadata": {
        "id": "Dek_MCFyXLq7"
      },
      "source": [
        "# II. Split Data\n",
        "\n",
        "**First** we need to split our **target vector** from our **feature matrix**."
      ]
    },
    {
      "cell_type": "code",
      "metadata": {
        "id": "8m9W00DPo9Vp"
      },
      "source": [
        "y = df['incumbent_vote_share'] # one- dimensional\n",
        "X = df[['income']] # two dimensional"
      ],
      "execution_count": 35,
      "outputs": []
    },
    {
      "cell_type": "markdown",
      "metadata": {
        "id": "DZkHRqALX2be"
      },
      "source": [
        "**Second** we need to split our dataset into **training** and **test** sets.\n",
        "\n",
        "Two strategies:\n",
        "\n",
        "- Random train-test split using [`train_test_split`](https://scikit-learn.org/stable/modules/generated/sklearn.model_selection.train_test_split.html). Generally we use 80% of the data for training, and 20% of the data for testing.\n",
        "- If you have **timeseries**, then you need to do a \"cutoff\" split."
      ]
    },
    {
      "cell_type": "code",
      "metadata": {
        "id": "RJqL21ur3sDm",
        "outputId": "eadb9eac-f5bb-4d16-c545-046d491d64db",
        "colab": {
          "base_uri": "https://localhost:8080/"
        }
      },
      "source": [
        "#we have a time series data, we will use cut off methods\n",
        "\n",
        "cut_off = 2008\n",
        "mask = X.index < 2008\n",
        "X_train, y_train = X.loc[mask], y.loc[mask]\n",
        "X_test, y_test = X.loc[~mask], y.loc[~mask]\n",
        "y_test"
      ],
      "execution_count": 68,
      "outputs": [
        {
          "output_type": "execute_result",
          "data": {
            "text/plain": [
              "year\n",
              "2008    46.32\n",
              "2012    52.00\n",
              "2016    48.20\n",
              "Name: incumbent_vote_share, dtype: float64"
            ]
          },
          "metadata": {
            "tags": []
          },
          "execution_count": 68
        }
      ]
    },
    {
      "cell_type": "markdown",
      "metadata": {
        "id": "KaBIqAGrElWl"
      },
      "source": [
        "Another good way to do a cut off if you do not have time series data but would want it to start from a certain row"
      ]
    },
    {
      "cell_type": "code",
      "metadata": {
        "id": "ngJw63BeEk2Q"
      },
      "source": [
        "#cutoff = int(len(X)*0.8)\n",
        "#X_train, y_train = X.iloc[:cutoff], y.iloc[:cutoff]\n",
        "#X_test, y_test = X.iloc[cutoff:], y .iloc[cutoff:]\n",
        "#X_test"
      ],
      "execution_count": 74,
      "outputs": []
    },
    {
      "cell_type": "code",
      "metadata": {
        "id": "IuDS85Y1BhfS",
        "outputId": "c1561f8d-ca23-4f85-b7ec-9808ac730099",
        "colab": {
          "base_uri": "https://localhost:8080/",
          "height": 542
        }
      },
      "source": [
        "import plotly.express as px\n",
        "px.scatter(\n",
        "    df, \n",
        "    x = 'income',\n",
        "    y = 'incumbent_vote_share',\n",
        "    #text = 'year',\n",
        "    title = 'Trends to show the relationship between Income and Incumbent vote share',\n",
        "    trendline = 'ols',\n",
        ")"
      ],
      "execution_count": 75,
      "outputs": [
        {
          "output_type": "display_data",
          "data": {
            "text/html": [
              "<html>\n",
              "<head><meta charset=\"utf-8\" /></head>\n",
              "<body>\n",
              "    <div>\n",
              "            <script src=\"https://cdnjs.cloudflare.com/ajax/libs/mathjax/2.7.5/MathJax.js?config=TeX-AMS-MML_SVG\"></script><script type=\"text/javascript\">if (window.MathJax) {MathJax.Hub.Config({SVG: {font: \"STIX-Web\"}});}</script>\n",
              "                <script type=\"text/javascript\">window.PlotlyConfig = {MathJaxConfig: 'local'};</script>\n",
              "        <script src=\"https://cdn.plot.ly/plotly-latest.min.js\"></script>    \n",
              "            <div id=\"d5b1ad2a-c995-4009-b6c3-477b00e2b09c\" class=\"plotly-graph-div\" style=\"height:525px; width:100%;\"></div>\n",
              "            <script type=\"text/javascript\">\n",
              "                \n",
              "                    window.PLOTLYENV=window.PLOTLYENV || {};\n",
              "                    \n",
              "                if (document.getElementById(\"d5b1ad2a-c995-4009-b6c3-477b00e2b09c\")) {\n",
              "                    Plotly.newPlot(\n",
              "                        'd5b1ad2a-c995-4009-b6c3-477b00e2b09c',\n",
              "                        [{\"hoverlabel\": {\"namelength\": 0}, \"hovertemplate\": \"income=%{x}<br>incumbent_vote_share=%{y}\", \"legendgroup\": \"\", \"marker\": {\"color\": \"#636efa\", \"symbol\": \"circle\"}, \"mode\": \"markers\", \"name\": \"\", \"showlegend\": false, \"type\": \"scatter\", \"x\": [2.4, 2.89, 0.85, 4.21, 3.02, 3.62, 1.08, -0.39, 3.86, 2.27, 0.38, 1.04, 2.36, 1.72, 0.1, 0.95, 0.1], \"xaxis\": \"x\", \"y\": [44.6, 57.76, 49.91, 61.34, 49.6, 61.79, 48.95, 44.7, 59.17, 53.94, 46.55, 54.74, 50.27, 51.24, 46.32, 52.0, 48.2], \"yaxis\": \"y\"}, {\"hoverlabel\": {\"namelength\": 0}, \"hovertemplate\": \"<b>OLS trendline</b><br>incumbent_vote_share = 2.974177 * income + 46.499210<br>R<sup>2</sup>=0.587186<br><br>income=%{x}<br>incumbent_vote_share=%{y} <b>(trend)</b>\", \"legendgroup\": \"\", \"marker\": {\"color\": \"#636efa\", \"symbol\": \"circle\"}, \"mode\": \"lines\", \"name\": \"\", \"showlegend\": false, \"type\": \"scatter\", \"x\": [-0.39, 0.1, 0.1, 0.38, 0.85, 0.95, 1.04, 1.08, 1.72, 2.27, 2.36, 2.4, 2.89, 3.02, 3.62, 3.86, 4.21], \"xaxis\": \"x\", \"y\": [45.339280693192286, 46.79662746660044, 46.79662746660044, 47.62939705140509, 49.027260283041485, 49.324677991900295, 49.59235392987322, 49.71132101341674, 51.6147943501131, 53.250591748836534, 53.51826768680946, 53.63723477035298, 55.09458154376114, 55.481224565277586, 57.26573081843042, 57.979533319691555, 59.02049530069738], \"yaxis\": \"y\"}],\n",
              "                        {\"legend\": {\"tracegroupgap\": 0}, \"template\": {\"data\": {\"bar\": [{\"error_x\": {\"color\": \"#2a3f5f\"}, \"error_y\": {\"color\": \"#2a3f5f\"}, \"marker\": {\"line\": {\"color\": \"#E5ECF6\", \"width\": 0.5}}, \"type\": \"bar\"}], \"barpolar\": [{\"marker\": {\"line\": {\"color\": \"#E5ECF6\", \"width\": 0.5}}, \"type\": \"barpolar\"}], \"carpet\": [{\"aaxis\": {\"endlinecolor\": \"#2a3f5f\", \"gridcolor\": \"white\", \"linecolor\": \"white\", \"minorgridcolor\": \"white\", \"startlinecolor\": \"#2a3f5f\"}, \"baxis\": {\"endlinecolor\": \"#2a3f5f\", \"gridcolor\": \"white\", \"linecolor\": \"white\", \"minorgridcolor\": \"white\", \"startlinecolor\": \"#2a3f5f\"}, \"type\": \"carpet\"}], \"choropleth\": [{\"colorbar\": {\"outlinewidth\": 0, \"ticks\": \"\"}, \"type\": \"choropleth\"}], \"contour\": [{\"colorbar\": {\"outlinewidth\": 0, \"ticks\": \"\"}, \"colorscale\": [[0.0, \"#0d0887\"], [0.1111111111111111, \"#46039f\"], [0.2222222222222222, \"#7201a8\"], [0.3333333333333333, \"#9c179e\"], [0.4444444444444444, \"#bd3786\"], [0.5555555555555556, \"#d8576b\"], [0.6666666666666666, \"#ed7953\"], [0.7777777777777778, \"#fb9f3a\"], [0.8888888888888888, \"#fdca26\"], [1.0, \"#f0f921\"]], \"type\": \"contour\"}], \"contourcarpet\": [{\"colorbar\": {\"outlinewidth\": 0, \"ticks\": \"\"}, \"type\": \"contourcarpet\"}], \"heatmap\": [{\"colorbar\": {\"outlinewidth\": 0, \"ticks\": \"\"}, \"colorscale\": [[0.0, \"#0d0887\"], [0.1111111111111111, \"#46039f\"], [0.2222222222222222, \"#7201a8\"], [0.3333333333333333, \"#9c179e\"], [0.4444444444444444, \"#bd3786\"], [0.5555555555555556, \"#d8576b\"], [0.6666666666666666, \"#ed7953\"], [0.7777777777777778, \"#fb9f3a\"], [0.8888888888888888, \"#fdca26\"], [1.0, \"#f0f921\"]], \"type\": \"heatmap\"}], \"heatmapgl\": [{\"colorbar\": {\"outlinewidth\": 0, \"ticks\": \"\"}, \"colorscale\": [[0.0, \"#0d0887\"], [0.1111111111111111, \"#46039f\"], [0.2222222222222222, \"#7201a8\"], [0.3333333333333333, \"#9c179e\"], [0.4444444444444444, \"#bd3786\"], [0.5555555555555556, \"#d8576b\"], [0.6666666666666666, \"#ed7953\"], [0.7777777777777778, \"#fb9f3a\"], [0.8888888888888888, \"#fdca26\"], [1.0, \"#f0f921\"]], \"type\": \"heatmapgl\"}], \"histogram\": [{\"marker\": {\"colorbar\": {\"outlinewidth\": 0, \"ticks\": \"\"}}, \"type\": \"histogram\"}], \"histogram2d\": [{\"colorbar\": {\"outlinewidth\": 0, \"ticks\": \"\"}, \"colorscale\": [[0.0, \"#0d0887\"], [0.1111111111111111, \"#46039f\"], [0.2222222222222222, \"#7201a8\"], [0.3333333333333333, \"#9c179e\"], [0.4444444444444444, \"#bd3786\"], [0.5555555555555556, \"#d8576b\"], [0.6666666666666666, \"#ed7953\"], [0.7777777777777778, \"#fb9f3a\"], [0.8888888888888888, \"#fdca26\"], [1.0, \"#f0f921\"]], \"type\": \"histogram2d\"}], \"histogram2dcontour\": [{\"colorbar\": {\"outlinewidth\": 0, \"ticks\": \"\"}, \"colorscale\": [[0.0, \"#0d0887\"], [0.1111111111111111, \"#46039f\"], [0.2222222222222222, \"#7201a8\"], [0.3333333333333333, \"#9c179e\"], [0.4444444444444444, \"#bd3786\"], [0.5555555555555556, \"#d8576b\"], [0.6666666666666666, \"#ed7953\"], [0.7777777777777778, \"#fb9f3a\"], [0.8888888888888888, \"#fdca26\"], [1.0, \"#f0f921\"]], \"type\": \"histogram2dcontour\"}], \"mesh3d\": [{\"colorbar\": {\"outlinewidth\": 0, \"ticks\": \"\"}, \"type\": \"mesh3d\"}], \"parcoords\": [{\"line\": {\"colorbar\": {\"outlinewidth\": 0, \"ticks\": \"\"}}, \"type\": \"parcoords\"}], \"pie\": [{\"automargin\": true, \"type\": \"pie\"}], \"scatter\": [{\"marker\": {\"colorbar\": {\"outlinewidth\": 0, \"ticks\": \"\"}}, \"type\": \"scatter\"}], \"scatter3d\": [{\"line\": {\"colorbar\": {\"outlinewidth\": 0, \"ticks\": \"\"}}, \"marker\": {\"colorbar\": {\"outlinewidth\": 0, \"ticks\": \"\"}}, \"type\": \"scatter3d\"}], \"scattercarpet\": [{\"marker\": {\"colorbar\": {\"outlinewidth\": 0, \"ticks\": \"\"}}, \"type\": \"scattercarpet\"}], \"scattergeo\": [{\"marker\": {\"colorbar\": {\"outlinewidth\": 0, \"ticks\": \"\"}}, \"type\": \"scattergeo\"}], \"scattergl\": [{\"marker\": {\"colorbar\": {\"outlinewidth\": 0, \"ticks\": \"\"}}, \"type\": \"scattergl\"}], \"scattermapbox\": [{\"marker\": {\"colorbar\": {\"outlinewidth\": 0, \"ticks\": \"\"}}, \"type\": \"scattermapbox\"}], \"scatterpolar\": [{\"marker\": {\"colorbar\": {\"outlinewidth\": 0, \"ticks\": \"\"}}, \"type\": \"scatterpolar\"}], \"scatterpolargl\": [{\"marker\": {\"colorbar\": {\"outlinewidth\": 0, \"ticks\": \"\"}}, \"type\": \"scatterpolargl\"}], \"scatterternary\": [{\"marker\": {\"colorbar\": {\"outlinewidth\": 0, \"ticks\": \"\"}}, \"type\": \"scatterternary\"}], \"surface\": [{\"colorbar\": {\"outlinewidth\": 0, \"ticks\": \"\"}, \"colorscale\": [[0.0, \"#0d0887\"], [0.1111111111111111, \"#46039f\"], [0.2222222222222222, \"#7201a8\"], [0.3333333333333333, \"#9c179e\"], [0.4444444444444444, \"#bd3786\"], [0.5555555555555556, \"#d8576b\"], [0.6666666666666666, \"#ed7953\"], [0.7777777777777778, \"#fb9f3a\"], [0.8888888888888888, \"#fdca26\"], [1.0, \"#f0f921\"]], \"type\": \"surface\"}], \"table\": [{\"cells\": {\"fill\": {\"color\": \"#EBF0F8\"}, \"line\": {\"color\": \"white\"}}, \"header\": {\"fill\": {\"color\": \"#C8D4E3\"}, \"line\": {\"color\": \"white\"}}, \"type\": \"table\"}]}, \"layout\": {\"annotationdefaults\": {\"arrowcolor\": \"#2a3f5f\", \"arrowhead\": 0, \"arrowwidth\": 1}, \"coloraxis\": {\"colorbar\": {\"outlinewidth\": 0, \"ticks\": \"\"}}, \"colorscale\": {\"diverging\": [[0, \"#8e0152\"], [0.1, \"#c51b7d\"], [0.2, \"#de77ae\"], [0.3, \"#f1b6da\"], [0.4, \"#fde0ef\"], [0.5, \"#f7f7f7\"], [0.6, \"#e6f5d0\"], [0.7, \"#b8e186\"], [0.8, \"#7fbc41\"], [0.9, \"#4d9221\"], [1, \"#276419\"]], \"sequential\": [[0.0, \"#0d0887\"], [0.1111111111111111, \"#46039f\"], [0.2222222222222222, \"#7201a8\"], [0.3333333333333333, \"#9c179e\"], [0.4444444444444444, \"#bd3786\"], [0.5555555555555556, \"#d8576b\"], [0.6666666666666666, \"#ed7953\"], [0.7777777777777778, \"#fb9f3a\"], [0.8888888888888888, \"#fdca26\"], [1.0, \"#f0f921\"]], \"sequentialminus\": [[0.0, \"#0d0887\"], [0.1111111111111111, \"#46039f\"], [0.2222222222222222, \"#7201a8\"], [0.3333333333333333, \"#9c179e\"], [0.4444444444444444, \"#bd3786\"], [0.5555555555555556, \"#d8576b\"], [0.6666666666666666, \"#ed7953\"], [0.7777777777777778, \"#fb9f3a\"], [0.8888888888888888, \"#fdca26\"], [1.0, \"#f0f921\"]]}, \"colorway\": [\"#636efa\", \"#EF553B\", \"#00cc96\", \"#ab63fa\", \"#FFA15A\", \"#19d3f3\", \"#FF6692\", \"#B6E880\", \"#FF97FF\", \"#FECB52\"], \"font\": {\"color\": \"#2a3f5f\"}, \"geo\": {\"bgcolor\": \"white\", \"lakecolor\": \"white\", \"landcolor\": \"#E5ECF6\", \"showlakes\": true, \"showland\": true, \"subunitcolor\": \"white\"}, \"hoverlabel\": {\"align\": \"left\"}, \"hovermode\": \"closest\", \"mapbox\": {\"style\": \"light\"}, \"paper_bgcolor\": \"white\", \"plot_bgcolor\": \"#E5ECF6\", \"polar\": {\"angularaxis\": {\"gridcolor\": \"white\", \"linecolor\": \"white\", \"ticks\": \"\"}, \"bgcolor\": \"#E5ECF6\", \"radialaxis\": {\"gridcolor\": \"white\", \"linecolor\": \"white\", \"ticks\": \"\"}}, \"scene\": {\"xaxis\": {\"backgroundcolor\": \"#E5ECF6\", \"gridcolor\": \"white\", \"gridwidth\": 2, \"linecolor\": \"white\", \"showbackground\": true, \"ticks\": \"\", \"zerolinecolor\": \"white\"}, \"yaxis\": {\"backgroundcolor\": \"#E5ECF6\", \"gridcolor\": \"white\", \"gridwidth\": 2, \"linecolor\": \"white\", \"showbackground\": true, \"ticks\": \"\", \"zerolinecolor\": \"white\"}, \"zaxis\": {\"backgroundcolor\": \"#E5ECF6\", \"gridcolor\": \"white\", \"gridwidth\": 2, \"linecolor\": \"white\", \"showbackground\": true, \"ticks\": \"\", \"zerolinecolor\": \"white\"}}, \"shapedefaults\": {\"line\": {\"color\": \"#2a3f5f\"}}, \"ternary\": {\"aaxis\": {\"gridcolor\": \"white\", \"linecolor\": \"white\", \"ticks\": \"\"}, \"baxis\": {\"gridcolor\": \"white\", \"linecolor\": \"white\", \"ticks\": \"\"}, \"bgcolor\": \"#E5ECF6\", \"caxis\": {\"gridcolor\": \"white\", \"linecolor\": \"white\", \"ticks\": \"\"}}, \"title\": {\"x\": 0.05}, \"xaxis\": {\"automargin\": true, \"gridcolor\": \"white\", \"linecolor\": \"white\", \"ticks\": \"\", \"title\": {\"standoff\": 15}, \"zerolinecolor\": \"white\", \"zerolinewidth\": 2}, \"yaxis\": {\"automargin\": true, \"gridcolor\": \"white\", \"linecolor\": \"white\", \"ticks\": \"\", \"title\": {\"standoff\": 15}, \"zerolinecolor\": \"white\", \"zerolinewidth\": 2}}}, \"title\": {\"text\": \"Trends to show the relationship between Income and Incumbent vote share\"}, \"xaxis\": {\"anchor\": \"y\", \"domain\": [0.0, 1.0], \"title\": {\"text\": \"income\"}}, \"yaxis\": {\"anchor\": \"x\", \"domain\": [0.0, 1.0], \"title\": {\"text\": \"incumbent_vote_share\"}}},\n",
              "                        {\"responsive\": true}\n",
              "                    ).then(function(){\n",
              "                            \n",
              "var gd = document.getElementById('d5b1ad2a-c995-4009-b6c3-477b00e2b09c');\n",
              "var x = new MutationObserver(function (mutations, observer) {{\n",
              "        var display = window.getComputedStyle(gd).display;\n",
              "        if (!display || display === 'none') {{\n",
              "            console.log([gd, 'removed!']);\n",
              "            Plotly.purge(gd);\n",
              "            observer.disconnect();\n",
              "        }}\n",
              "}});\n",
              "\n",
              "// Listen for the removal of the full notebook cells\n",
              "var notebookContainer = gd.closest('#notebook-container');\n",
              "if (notebookContainer) {{\n",
              "    x.observe(notebookContainer, {childList: true});\n",
              "}}\n",
              "\n",
              "// Listen for the clearing of the current output cell\n",
              "var outputEl = gd.closest('.output');\n",
              "if (outputEl) {{\n",
              "    x.observe(outputEl, {childList: true});\n",
              "}}\n",
              "\n",
              "                        })\n",
              "                };\n",
              "                \n",
              "            </script>\n",
              "        </div>\n",
              "</body>\n",
              "</html>"
            ]
          },
          "metadata": {
            "tags": []
          }
        }
      ]
    },
    {
      "cell_type": "markdown",
      "metadata": {
        "id": "7iSEjfzTdJtS"
      },
      "source": [
        "# III. Establish Baseline"
      ]
    },
    {
      "cell_type": "code",
      "metadata": {
        "id": "VlB3cu_l3s1J",
        "outputId": "da0ef71c-c04e-43ff-c648-cdbdcd5b5eb0",
        "colab": {
          "base_uri": "https://localhost:8080/"
        }
      },
      "source": [
        "from sklearn.metrics import mean_absolute_error\n",
        "y_pred = [y_train.mean()] * len(y_train)\n",
        "print('Mean Incumbent Vote Share:', y_train.mean())\n",
        "print('Baseline MAE:', mean_absolute_error(y_train, y_pred))"
      ],
      "execution_count": 61,
      "outputs": [
        {
          "output_type": "stream",
          "text": [
            "Mean Incumbent Vote Share: 52.56307692307692\n",
            "Baseline MAE: 5.132544378698224\n"
          ],
          "name": "stdout"
        }
      ]
    },
    {
      "cell_type": "markdown",
      "metadata": {
        "id": "PzZqgSfpd6Z9"
      },
      "source": [
        "# IV. Build Model"
      ]
    },
    {
      "cell_type": "code",
      "metadata": {
        "id": "YK9UgruML0sL"
      },
      "source": [
        "from sklearn.linear_model import LinearRegression\n",
        "\n",
        "model = LinearRegression()\n",
        "\n",
        "model.fit(X_train, y_train);"
      ],
      "execution_count": 69,
      "outputs": []
    },
    {
      "cell_type": "code",
      "metadata": {
        "id": "Jh8-iY_E3t5A"
      },
      "source": [
        ""
      ],
      "execution_count": null,
      "outputs": []
    },
    {
      "cell_type": "markdown",
      "metadata": {
        "id": "kKS9OY-0eYyU"
      },
      "source": [
        "# V. Check Metrics\n",
        "\n",
        "## Mean Absolute Error\n",
        "\n",
        "The unit of measurement is the same as the unit of measurment for your target (in this case, vote share [%])."
      ]
    },
    {
      "cell_type": "code",
      "metadata": {
        "id": "jjsNKDYY3wws",
        "outputId": "cfde94d2-ca85-4cba-d753-43e3018e044f",
        "colab": {
          "base_uri": "https://localhost:8080/"
        }
      },
      "source": [
        "print('Training MAE', mean_absolute_error(y_train, model.predict(X_train)))\n",
        "print('Test MAE', mean_absolute_error(y_test, model.predict(X_test)))"
      ],
      "execution_count": 73,
      "outputs": [
        {
          "output_type": "stream",
          "text": [
            "Training MAE 2.645479454315596\n",
            "Test MAE 1.7998717748375863\n"
          ],
          "name": "stdout"
        }
      ]
    },
    {
      "cell_type": "markdown",
      "metadata": {
        "id": "gbbgj--egYyJ"
      },
      "source": [
        "## Root Mean Squared Error\n",
        "\n",
        "The unit of measurement is the same as the unit of measurment for your target (in this case, vote share [%])."
      ]
    },
    {
      "cell_type": "code",
      "metadata": {
        "id": "D8RUCk0u3x9L",
        "outputId": "4bb05424-c1f7-41a9-a373-c80995aff0e2",
        "colab": {
          "base_uri": "https://localhost:8080/"
        }
      },
      "source": [
        "from sklearn.metrics import mean_squared_error\n",
        "print('Training RMSE:', mean_squared_error(y_train, model.predict(X_train), squared = False))\n",
        "print('Test RMSE', mean_squared_error(y_test, model.predict(X_test), squared = False))"
      ],
      "execution_count": 80,
      "outputs": [
        {
          "output_type": "stream",
          "text": [
            "Training RMSE: 3.6773568396257406\n",
            "Test RMSE 2.180652086836372\n"
          ],
          "name": "stdout"
        }
      ]
    },
    {
      "cell_type": "markdown",
      "metadata": {
        "id": "JiG46uC-kQGW"
      },
      "source": [
        "## $R^2$ Score\n",
        "\n",
        "TL;DR: Usually ranges between 0 (bad) and 1 (good)."
      ]
    },
    {
      "cell_type": "code",
      "metadata": {
        "id": "23FV-p8bh61A",
        "colab": {
          "base_uri": "https://localhost:8080/",
          "height": 430,
          "referenced_widgets": [
            "257441eaef94453abb43c3b5bfd4c84d",
            "6b5b61a1beb54aa6a74ed2260bbe68b5",
            "7bf65c58971e47a58031c02be129cfd2",
            "f273b072dc0a4dea87c636b51098af1c",
            "fcef9847c8934b64a4b9095b7e79c042",
            "5cec0f4020d344e2b10f101ad0baabdf",
            "6fababddaa554af88597944dfe418db3",
            "f8665508bd8d442f8eb013e6a2232b6c",
            "80d3a5028be243789d9fdad7a50b9b9e",
            "ccb550cf55b3442fa31a18d6250c003c"
          ]
        },
        "outputId": "57ca1bcf-0375-40c0-80cf-e8215717dfbb"
      },
      "source": [
        "class BruteForceRegressor(BaseEstimator, RegressorMixin):\n",
        "    def __init__(self, m=0, b=0):\n",
        "        self.m = m\n",
        "        self.b = b\n",
        "        self.mean = 0\n",
        "        \n",
        "    def fit(self, X, y):\n",
        "        self.mean = np.mean(y)\n",
        "        return self\n",
        "    \n",
        "    def predict(self, X, return_mean=True):\n",
        "        if return_mean:\n",
        "            return [self.mean] * len(X)\n",
        "        else:\n",
        "            return X * self.m + self.b\n",
        "\n",
        "def plot(slope, intercept):\n",
        "    # Assign data to variables\n",
        "    x = df['income']\n",
        "    y = df['incumbent_vote_share']\n",
        "    \n",
        "    # Create figure\n",
        "    fig, (ax1, ax2) = plt.subplots(1, 2, figsize=(20,6))\n",
        "    \n",
        "    # Set ax limits\n",
        "    mar = 0.2\n",
        "    x_lim = floor(x.min() - x.min()*mar), ceil(x.max() + x.min()*mar)\n",
        "    y_lim = floor(y.min() - y.min()*mar), ceil(y.max() + y.min()*mar)\n",
        "    \n",
        "    # Instantiate and train model\n",
        "    bfr = BruteForceRegressor(slope, intercept)\n",
        "    bfr.fit(x, y)\n",
        "    \n",
        "    # ax1   \n",
        "    ## Plot data\n",
        "    ax1.set_xlim(x_lim)\n",
        "    ax1.set_ylim(y_lim)\n",
        "    ax1.scatter(x, y)\n",
        "    \n",
        "    ## Plot base model\n",
        "    ax1.axhline(bfr.mean, color='orange', label='baseline model')\n",
        "    \n",
        "    ## Plot residual lines\n",
        "    y_base_pred = bfr.predict(x)\n",
        "    ss_base = mean_squared_error(y, y_base_pred) * len(y)\n",
        "    for x_i, y_i, yp_i in zip(x, y, y_base_pred):\n",
        "        ax1.plot([x_i, x_i], [y_i, yp_i], \n",
        "                 color='gray', linestyle='--', alpha=0.75)\n",
        "    \n",
        "    ## Formatting\n",
        "    ax1.legend()\n",
        "    ax1.set_title(f'Sum of Squares: {np.round(ss_base, 2)}')\n",
        "    ax1.set_xlabel('Growth in Personal Incomes')\n",
        "    ax1.set_ylabel('Incumbent Party Vote Share [%]')\n",
        "\n",
        "    # ax2\n",
        "\n",
        "    ax2.set_xlim(x_lim)\n",
        "    ax2.set_ylim(y_lim)\n",
        "    ## Plot data\n",
        "    ax2.scatter(x, y)\n",
        "    \n",
        "    ## Plot model\n",
        "    x_model = np.linspace(*ax2.get_xlim(), 10)\n",
        "    y_model = bfr.predict(x_model, return_mean=False)\n",
        "    ax2.plot(x_model, y_model, color='green', label='our model')\n",
        "    for x_coord, y_coord in zip(x, y):\n",
        "        ax2.plot([x_coord, x_coord], [y_coord, x_coord * slope + intercept], \n",
        "                 color='gray', linestyle='--', alpha=0.75)   \n",
        "    \n",
        "    ss_ours = mean_squared_error(y, bfr.predict(x, return_mean=False)) * len(y)\n",
        "    \n",
        "    ## Formatting\n",
        "    ax2.legend()\n",
        "    ax2.set_title(f'Sum of Squares: {np.round(ss_ours, 2)}')\n",
        "    ax2.set_xlabel('Growth in Personal Incomes')\n",
        "    ax2.set_ylabel('Incumbent Party Vote Share [%]')\n",
        "\n",
        "y = df['incumbent_vote_share']\n",
        "slope_slider = FloatSlider(min=-5, max=5, step=0.5, value=0)\n",
        "intercept_slider = FloatSlider(min=int(y.min()), max=y.max(), step=2, value=y.mean())\n",
        "    \n",
        "interactive(plot, slope=slope_slider, intercept=intercept_slider)"
      ],
      "execution_count": null,
      "outputs": [
        {
          "output_type": "display_data",
          "data": {
            "application/vnd.jupyter.widget-view+json": {
              "model_id": "257441eaef94453abb43c3b5bfd4c84d",
              "version_minor": 0,
              "version_major": 2
            },
            "text/plain": [
              "interactive(children=(FloatSlider(value=0.0, description='slope', max=5.0, min=-5.0, step=0.5), FloatSlider(va…"
            ]
          },
          "metadata": {
            "tags": []
          }
        }
      ]
    },
    {
      "cell_type": "code",
      "metadata": {
        "id": "96hWWlRcdtFb"
      },
      "source": [
        ""
      ],
      "execution_count": null,
      "outputs": []
    },
    {
      "cell_type": "markdown",
      "metadata": {
        "id": "6eHzIsbYqcgo"
      },
      "source": [
        "# VI. Communicate Results\n",
        "\n",
        "**Challenge:** How can we find the coefficients and intercept for our `model`?"
      ]
    },
    {
      "cell_type": "code",
      "metadata": {
        "id": "U9reRJKE7T-6"
      },
      "source": [
        ""
      ],
      "execution_count": null,
      "outputs": []
    }
  ]
}