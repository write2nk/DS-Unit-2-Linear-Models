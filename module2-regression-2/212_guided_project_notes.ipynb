{
  "nbformat": 4,
  "nbformat_minor": 0,
  "metadata": {
    "colab": {
      "name": "212_guided-project-notes.ipynb",
      "provenance": []
    },
    "kernelspec": {
      "name": "python3",
      "display_name": "Python 3"
    },
    "widgets": {
      "application/vnd.jupyter.widget-state+json": {
        "491c376616ea463a8cdd9f03deb86501": {
          "model_module": "@jupyter-widgets/controls",
          "model_name": "VBoxModel",
          "state": {
            "_view_name": "VBoxView",
            "_dom_classes": [
              "widget-interact"
            ],
            "_model_name": "VBoxModel",
            "_view_module": "@jupyter-widgets/controls",
            "_model_module_version": "1.5.0",
            "_view_count": null,
            "_view_module_version": "1.5.0",
            "box_style": "",
            "layout": "IPY_MODEL_bc3eae395f684e85852fb250d47d1a1e",
            "_model_module": "@jupyter-widgets/controls",
            "children": [
              "IPY_MODEL_afbe116a182347da8a4199d32fd8f570",
              "IPY_MODEL_aa3931dd2e5745b79448dff46a4c034a",
              "IPY_MODEL_08d992f79e6d40e7b4c702e7d57983cc"
            ]
          }
        },
        "bc3eae395f684e85852fb250d47d1a1e": {
          "model_module": "@jupyter-widgets/base",
          "model_name": "LayoutModel",
          "state": {
            "_view_name": "LayoutView",
            "grid_template_rows": null,
            "right": null,
            "justify_content": null,
            "_view_module": "@jupyter-widgets/base",
            "overflow": null,
            "_model_module_version": "1.2.0",
            "_view_count": null,
            "flex_flow": null,
            "width": null,
            "min_width": null,
            "border": null,
            "align_items": null,
            "bottom": null,
            "_model_module": "@jupyter-widgets/base",
            "top": null,
            "grid_column": null,
            "overflow_y": null,
            "overflow_x": null,
            "grid_auto_flow": null,
            "grid_area": null,
            "grid_template_columns": null,
            "flex": null,
            "_model_name": "LayoutModel",
            "justify_items": null,
            "grid_row": null,
            "max_height": null,
            "align_content": null,
            "visibility": null,
            "align_self": null,
            "height": null,
            "min_height": null,
            "padding": null,
            "grid_auto_rows": null,
            "grid_gap": null,
            "max_width": null,
            "order": null,
            "_view_module_version": "1.2.0",
            "grid_template_areas": null,
            "object_position": null,
            "object_fit": null,
            "grid_auto_columns": null,
            "margin": null,
            "display": null,
            "left": null
          }
        },
        "afbe116a182347da8a4199d32fd8f570": {
          "model_module": "@jupyter-widgets/controls",
          "model_name": "FloatSliderModel",
          "state": {
            "_view_name": "FloatSliderView",
            "style": "IPY_MODEL_dfef88e96afa47e89f64e8b293e0e753",
            "_dom_classes": [],
            "description": "slope",
            "step": 0.5,
            "_model_name": "FloatSliderModel",
            "orientation": "horizontal",
            "max": 5,
            "_view_module": "@jupyter-widgets/controls",
            "_model_module_version": "1.5.0",
            "value": 0,
            "_view_count": null,
            "disabled": false,
            "_view_module_version": "1.5.0",
            "min": -5,
            "continuous_update": true,
            "readout_format": ".2f",
            "description_tooltip": null,
            "readout": true,
            "_model_module": "@jupyter-widgets/controls",
            "layout": "IPY_MODEL_a3a154f94a644fa88ab32698fab8255e"
          }
        },
        "aa3931dd2e5745b79448dff46a4c034a": {
          "model_module": "@jupyter-widgets/controls",
          "model_name": "FloatSliderModel",
          "state": {
            "_view_name": "FloatSliderView",
            "style": "IPY_MODEL_47e30a579a64467791feb809e58a6fe7",
            "_dom_classes": [],
            "description": "intercept",
            "step": 2,
            "_model_name": "FloatSliderModel",
            "orientation": "horizontal",
            "max": 61.79,
            "_view_module": "@jupyter-widgets/controls",
            "_model_module_version": "1.5.0",
            "value": 51.82823529411765,
            "_view_count": null,
            "disabled": false,
            "_view_module_version": "1.5.0",
            "min": 44,
            "continuous_update": true,
            "readout_format": ".2f",
            "description_tooltip": null,
            "readout": true,
            "_model_module": "@jupyter-widgets/controls",
            "layout": "IPY_MODEL_96187f6ac980454aaeae404342c0c06f"
          }
        },
        "08d992f79e6d40e7b4c702e7d57983cc": {
          "model_module": "@jupyter-widgets/output",
          "model_name": "OutputModel",
          "state": {
            "_view_name": "OutputView",
            "msg_id": "",
            "_dom_classes": [],
            "_model_name": "OutputModel",
            "outputs": [
              {
                "output_type": "display_data",
                "metadata": {
                  "tags": [],
                  "needs_background": "light"
                },
                "image/png": "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\n",
                "text/plain": "<Figure size 1440x432 with 2 Axes>"
              }
            ],
            "_view_module": "@jupyter-widgets/output",
            "_model_module_version": "1.0.0",
            "_view_count": null,
            "_view_module_version": "1.0.0",
            "layout": "IPY_MODEL_3db23f5f3ebb4fbfb1671885b522b882",
            "_model_module": "@jupyter-widgets/output"
          }
        },
        "dfef88e96afa47e89f64e8b293e0e753": {
          "model_module": "@jupyter-widgets/controls",
          "model_name": "SliderStyleModel",
          "state": {
            "_view_name": "StyleView",
            "handle_color": null,
            "_model_name": "SliderStyleModel",
            "description_width": "",
            "_view_module": "@jupyter-widgets/base",
            "_model_module_version": "1.5.0",
            "_view_count": null,
            "_view_module_version": "1.2.0",
            "_model_module": "@jupyter-widgets/controls"
          }
        },
        "a3a154f94a644fa88ab32698fab8255e": {
          "model_module": "@jupyter-widgets/base",
          "model_name": "LayoutModel",
          "state": {
            "_view_name": "LayoutView",
            "grid_template_rows": null,
            "right": null,
            "justify_content": null,
            "_view_module": "@jupyter-widgets/base",
            "overflow": null,
            "_model_module_version": "1.2.0",
            "_view_count": null,
            "flex_flow": null,
            "width": null,
            "min_width": null,
            "border": null,
            "align_items": null,
            "bottom": null,
            "_model_module": "@jupyter-widgets/base",
            "top": null,
            "grid_column": null,
            "overflow_y": null,
            "overflow_x": null,
            "grid_auto_flow": null,
            "grid_area": null,
            "grid_template_columns": null,
            "flex": null,
            "_model_name": "LayoutModel",
            "justify_items": null,
            "grid_row": null,
            "max_height": null,
            "align_content": null,
            "visibility": null,
            "align_self": null,
            "height": null,
            "min_height": null,
            "padding": null,
            "grid_auto_rows": null,
            "grid_gap": null,
            "max_width": null,
            "order": null,
            "_view_module_version": "1.2.0",
            "grid_template_areas": null,
            "object_position": null,
            "object_fit": null,
            "grid_auto_columns": null,
            "margin": null,
            "display": null,
            "left": null
          }
        },
        "47e30a579a64467791feb809e58a6fe7": {
          "model_module": "@jupyter-widgets/controls",
          "model_name": "SliderStyleModel",
          "state": {
            "_view_name": "StyleView",
            "handle_color": null,
            "_model_name": "SliderStyleModel",
            "description_width": "",
            "_view_module": "@jupyter-widgets/base",
            "_model_module_version": "1.5.0",
            "_view_count": null,
            "_view_module_version": "1.2.0",
            "_model_module": "@jupyter-widgets/controls"
          }
        },
        "96187f6ac980454aaeae404342c0c06f": {
          "model_module": "@jupyter-widgets/base",
          "model_name": "LayoutModel",
          "state": {
            "_view_name": "LayoutView",
            "grid_template_rows": null,
            "right": null,
            "justify_content": null,
            "_view_module": "@jupyter-widgets/base",
            "overflow": null,
            "_model_module_version": "1.2.0",
            "_view_count": null,
            "flex_flow": null,
            "width": null,
            "min_width": null,
            "border": null,
            "align_items": null,
            "bottom": null,
            "_model_module": "@jupyter-widgets/base",
            "top": null,
            "grid_column": null,
            "overflow_y": null,
            "overflow_x": null,
            "grid_auto_flow": null,
            "grid_area": null,
            "grid_template_columns": null,
            "flex": null,
            "_model_name": "LayoutModel",
            "justify_items": null,
            "grid_row": null,
            "max_height": null,
            "align_content": null,
            "visibility": null,
            "align_self": null,
            "height": null,
            "min_height": null,
            "padding": null,
            "grid_auto_rows": null,
            "grid_gap": null,
            "max_width": null,
            "order": null,
            "_view_module_version": "1.2.0",
            "grid_template_areas": null,
            "object_position": null,
            "object_fit": null,
            "grid_auto_columns": null,
            "margin": null,
            "display": null,
            "left": null
          }
        },
        "3db23f5f3ebb4fbfb1671885b522b882": {
          "model_module": "@jupyter-widgets/base",
          "model_name": "LayoutModel",
          "state": {
            "_view_name": "LayoutView",
            "grid_template_rows": null,
            "right": null,
            "justify_content": null,
            "_view_module": "@jupyter-widgets/base",
            "overflow": null,
            "_model_module_version": "1.2.0",
            "_view_count": null,
            "flex_flow": null,
            "width": null,
            "min_width": null,
            "border": null,
            "align_items": null,
            "bottom": null,
            "_model_module": "@jupyter-widgets/base",
            "top": null,
            "grid_column": null,
            "overflow_y": null,
            "overflow_x": null,
            "grid_auto_flow": null,
            "grid_area": null,
            "grid_template_columns": null,
            "flex": null,
            "_model_name": "LayoutModel",
            "justify_items": null,
            "grid_row": null,
            "max_height": null,
            "align_content": null,
            "visibility": null,
            "align_self": null,
            "height": null,
            "min_height": null,
            "padding": null,
            "grid_auto_rows": null,
            "grid_gap": null,
            "max_width": null,
            "order": null,
            "_view_module_version": "1.2.0",
            "grid_template_areas": null,
            "object_position": null,
            "object_fit": null,
            "grid_auto_columns": null,
            "margin": null,
            "display": null,
            "left": null
          }
        }
      }
    }
  },
  "cells": [
    {
      "cell_type": "code",
      "metadata": {
        "id": "gUcWhX-0r9gl"
      },
      "source": [
        "# Libraries for R^2 visualization\n",
        "from ipywidgets import interactive, IntSlider, FloatSlider\n",
        "from math import floor, ceil\n",
        "from sklearn.base import BaseEstimator, RegressorMixin\n",
        "\n",
        "# Libraries for model building\n",
        "from sklearn.linear_model import LinearRegression\n",
        "from sklearn.metrics import mean_absolute_error, mean_squared_error, r2_score\n",
        "import matplotlib.pyplot as plt\n",
        "import numpy as np\n",
        "import pandas as pd\n",
        "\n",
        "# Library for working locally or Colab\n",
        "import sys"
      ],
      "execution_count": 84,
      "outputs": []
    },
    {
      "cell_type": "code",
      "metadata": {
        "id": "E5WTvJFCWQjx"
      },
      "source": [
        "# If you're on Colab:\n",
        "if 'google.colab' in sys.modules:\n",
        "    DATA_PATH = 'https://raw.githubusercontent.com/LambdaSchool/DS-Unit-2-Applied-Modeling/master/data/'\n",
        "\n",
        "# If you're working locally:\n",
        "else:\n",
        "    DATA_PATH = '../data/'"
      ],
      "execution_count": 85,
      "outputs": []
    },
    {
      "cell_type": "markdown",
      "metadata": {
        "id": "TGelVAREWyrN"
      },
      "source": [
        "# I. Wrangle Data"
      ]
    },
    {
      "cell_type": "code",
      "metadata": {
        "colab": {
          "base_uri": "https://localhost:8080/",
          "height": 623
        },
        "id": "QMTMpPnjI9mQ",
        "outputId": "3c08dfe1-7ae3-445d-b6f9-663efe6a0af9"
      },
      "source": [
        "#import our data\n",
        "import pandas as pd\n",
        "col_names = ['year', 'incumbent', 'chalenger', 'income', 'fatalities', 'incumbent_vote_share']\n",
        "df = pd.read_csv(DATA_PATH + 'elections/bread_peace_voting.csv', names = col_names, header= 0, index_col= 'year')\n",
        "print(df.shape)\n",
        "df"
      ],
      "execution_count": 86,
      "outputs": [
        {
          "output_type": "stream",
          "text": [
            "(17, 5)\n"
          ],
          "name": "stdout"
        },
        {
          "output_type": "execute_result",
          "data": {
            "text/html": [
              "<div>\n",
              "<style scoped>\n",
              "    .dataframe tbody tr th:only-of-type {\n",
              "        vertical-align: middle;\n",
              "    }\n",
              "\n",
              "    .dataframe tbody tr th {\n",
              "        vertical-align: top;\n",
              "    }\n",
              "\n",
              "    .dataframe thead th {\n",
              "        text-align: right;\n",
              "    }\n",
              "</style>\n",
              "<table border=\"1\" class=\"dataframe\">\n",
              "  <thead>\n",
              "    <tr style=\"text-align: right;\">\n",
              "      <th></th>\n",
              "      <th>incumbent</th>\n",
              "      <th>chalenger</th>\n",
              "      <th>income</th>\n",
              "      <th>fatalities</th>\n",
              "      <th>incumbent_vote_share</th>\n",
              "    </tr>\n",
              "    <tr>\n",
              "      <th>year</th>\n",
              "      <th></th>\n",
              "      <th></th>\n",
              "      <th></th>\n",
              "      <th></th>\n",
              "      <th></th>\n",
              "    </tr>\n",
              "  </thead>\n",
              "  <tbody>\n",
              "    <tr>\n",
              "      <th>1952</th>\n",
              "      <td>Stevenson</td>\n",
              "      <td>Eisenhower</td>\n",
              "      <td>2.40</td>\n",
              "      <td>190</td>\n",
              "      <td>44.60</td>\n",
              "    </tr>\n",
              "    <tr>\n",
              "      <th>1956</th>\n",
              "      <td>Eisenhower</td>\n",
              "      <td>Stevenson</td>\n",
              "      <td>2.89</td>\n",
              "      <td>0</td>\n",
              "      <td>57.76</td>\n",
              "    </tr>\n",
              "    <tr>\n",
              "      <th>1960</th>\n",
              "      <td>Nixon</td>\n",
              "      <td>Kennedy</td>\n",
              "      <td>0.85</td>\n",
              "      <td>0</td>\n",
              "      <td>49.91</td>\n",
              "    </tr>\n",
              "    <tr>\n",
              "      <th>1964</th>\n",
              "      <td>Johnson</td>\n",
              "      <td>Goldwater</td>\n",
              "      <td>4.21</td>\n",
              "      <td>1</td>\n",
              "      <td>61.34</td>\n",
              "    </tr>\n",
              "    <tr>\n",
              "      <th>1968</th>\n",
              "      <td>Humphrey</td>\n",
              "      <td>Nixon</td>\n",
              "      <td>3.02</td>\n",
              "      <td>146</td>\n",
              "      <td>49.60</td>\n",
              "    </tr>\n",
              "    <tr>\n",
              "      <th>1972</th>\n",
              "      <td>Nixon</td>\n",
              "      <td>McGovern</td>\n",
              "      <td>3.62</td>\n",
              "      <td>0</td>\n",
              "      <td>61.79</td>\n",
              "    </tr>\n",
              "    <tr>\n",
              "      <th>1976</th>\n",
              "      <td>Ford</td>\n",
              "      <td>Carter</td>\n",
              "      <td>1.08</td>\n",
              "      <td>2</td>\n",
              "      <td>48.95</td>\n",
              "    </tr>\n",
              "    <tr>\n",
              "      <th>1980</th>\n",
              "      <td>Carter</td>\n",
              "      <td>Reagan</td>\n",
              "      <td>-0.39</td>\n",
              "      <td>0</td>\n",
              "      <td>44.70</td>\n",
              "    </tr>\n",
              "    <tr>\n",
              "      <th>1984</th>\n",
              "      <td>Reagan</td>\n",
              "      <td>Mondale</td>\n",
              "      <td>3.86</td>\n",
              "      <td>0</td>\n",
              "      <td>59.17</td>\n",
              "    </tr>\n",
              "    <tr>\n",
              "      <th>1988</th>\n",
              "      <td>Bush, Sr.</td>\n",
              "      <td>Dukakis</td>\n",
              "      <td>2.27</td>\n",
              "      <td>0</td>\n",
              "      <td>53.94</td>\n",
              "    </tr>\n",
              "    <tr>\n",
              "      <th>1992</th>\n",
              "      <td>Bush, Sr.</td>\n",
              "      <td>Clinton</td>\n",
              "      <td>0.38</td>\n",
              "      <td>0</td>\n",
              "      <td>46.55</td>\n",
              "    </tr>\n",
              "    <tr>\n",
              "      <th>1996</th>\n",
              "      <td>Clinton</td>\n",
              "      <td>Dole</td>\n",
              "      <td>1.04</td>\n",
              "      <td>0</td>\n",
              "      <td>54.74</td>\n",
              "    </tr>\n",
              "    <tr>\n",
              "      <th>2000</th>\n",
              "      <td>Gore</td>\n",
              "      <td>Bush, Jr.</td>\n",
              "      <td>2.36</td>\n",
              "      <td>0</td>\n",
              "      <td>50.27</td>\n",
              "    </tr>\n",
              "    <tr>\n",
              "      <th>2004</th>\n",
              "      <td>Bush, Jr.</td>\n",
              "      <td>Kerry</td>\n",
              "      <td>1.72</td>\n",
              "      <td>4</td>\n",
              "      <td>51.24</td>\n",
              "    </tr>\n",
              "    <tr>\n",
              "      <th>2008</th>\n",
              "      <td>McCain</td>\n",
              "      <td>Obama</td>\n",
              "      <td>0.10</td>\n",
              "      <td>14</td>\n",
              "      <td>46.32</td>\n",
              "    </tr>\n",
              "    <tr>\n",
              "      <th>2012</th>\n",
              "      <td>Obama</td>\n",
              "      <td>Romney</td>\n",
              "      <td>0.95</td>\n",
              "      <td>5</td>\n",
              "      <td>52.00</td>\n",
              "    </tr>\n",
              "    <tr>\n",
              "      <th>2016</th>\n",
              "      <td>Clinton</td>\n",
              "      <td>Trump</td>\n",
              "      <td>0.10</td>\n",
              "      <td>5</td>\n",
              "      <td>48.20</td>\n",
              "    </tr>\n",
              "  </tbody>\n",
              "</table>\n",
              "</div>"
            ],
            "text/plain": [
              "       incumbent   chalenger  income  fatalities  incumbent_vote_share\n",
              "year                                                                  \n",
              "1952   Stevenson  Eisenhower    2.40         190                 44.60\n",
              "1956  Eisenhower   Stevenson    2.89           0                 57.76\n",
              "1960       Nixon     Kennedy    0.85           0                 49.91\n",
              "1964     Johnson   Goldwater    4.21           1                 61.34\n",
              "1968    Humphrey       Nixon    3.02         146                 49.60\n",
              "1972       Nixon    McGovern    3.62           0                 61.79\n",
              "1976        Ford      Carter    1.08           2                 48.95\n",
              "1980      Carter      Reagan   -0.39           0                 44.70\n",
              "1984      Reagan     Mondale    3.86           0                 59.17\n",
              "1988   Bush, Sr.     Dukakis    2.27           0                 53.94\n",
              "1992   Bush, Sr.     Clinton    0.38           0                 46.55\n",
              "1996     Clinton        Dole    1.04           0                 54.74\n",
              "2000        Gore   Bush, Jr.    2.36           0                 50.27\n",
              "2004   Bush, Jr.       Kerry    1.72           4                 51.24\n",
              "2008      McCain       Obama    0.10          14                 46.32\n",
              "2012       Obama      Romney    0.95           5                 52.00\n",
              "2016     Clinton       Trump    0.10           5                 48.20"
            ]
          },
          "metadata": {
            "tags": []
          },
          "execution_count": 86
        }
      ]
    },
    {
      "cell_type": "markdown",
      "metadata": {
        "id": "k0Pl83iD6Zt7"
      },
      "source": [
        "Perfom EDA"
      ]
    },
    {
      "cell_type": "code",
      "metadata": {
        "colab": {
          "base_uri": "https://localhost:8080/"
        },
        "id": "-V-yxM2B1nJ2",
        "outputId": "f6744932-2997-40e4-bf94-74f722454ddc"
      },
      "source": [
        "# get the information about the data, we have 2 categorical data, because Linear Reg is a mathematical model, we cant use it\n",
        "df.info()"
      ],
      "execution_count": 87,
      "outputs": [
        {
          "output_type": "stream",
          "text": [
            "<class 'pandas.core.frame.DataFrame'>\n",
            "Int64Index: 17 entries, 1952 to 2016\n",
            "Data columns (total 5 columns):\n",
            " #   Column                Non-Null Count  Dtype  \n",
            "---  ------                --------------  -----  \n",
            " 0   incumbent             17 non-null     object \n",
            " 1   chalenger             17 non-null     object \n",
            " 2   income                17 non-null     float64\n",
            " 3   fatalities            17 non-null     int64  \n",
            " 4   incumbent_vote_share  17 non-null     float64\n",
            "dtypes: float64(2), int64(1), object(2)\n",
            "memory usage: 816.0+ bytes\n"
          ],
          "name": "stdout"
        }
      ]
    },
    {
      "cell_type": "code",
      "metadata": {
        "colab": {
          "base_uri": "https://localhost:8080/",
          "height": 416
        },
        "id": "ZEHEtkVD6sJW",
        "outputId": "d561d0a1-38d8-4bce-dfd7-c5a81483f356"
      },
      "source": [
        "#lets visualize the relationship between between Income and vote share\n",
        "\n",
        "import seaborn as sns\n",
        "sns.lmplot(x = 'income', y = 'incumbent_vote_share', data = df,ci= None)\n",
        "plt.xlabel('Recent Growth in Personal Income')\n",
        "plt.ylabel('Incumbent Party Vote Share [%]')\n",
        "plt.title('relationship between between Income and vote share')\n"
      ],
      "execution_count": 88,
      "outputs": [
        {
          "output_type": "execute_result",
          "data": {
            "text/plain": [
              "Text(0.5, 1.0, 'relationship between between Income and vote share')"
            ]
          },
          "metadata": {
            "tags": []
          },
          "execution_count": 88
        },
        {
          "output_type": "display_data",
          "data": {
            "image/png": "[encoded data removed]",
            "text/plain": [
              "<Figure size 360x360 with 1 Axes>"
            ]
          },
          "metadata": {
            "tags": [],
            "needs_background": "light"
          }
        }
      ]
    },
    {
      "cell_type": "code",
      "metadata": {
        "colab": {
          "base_uri": "https://localhost:8080/",
          "height": 416
        },
        "id": "L1cAGyaY60YD",
        "outputId": "a6ddb00c-a64b-4b00-eab9-ad58f00d9f84"
      },
      "source": [
        "#lets visualize the relationship between between vote share and fatalities\n",
        "\n",
        "import seaborn as sns\n",
        "sns.lmplot(x = 'fatalities', y = 'incumbent_vote_share', data = df,ci= None)\n",
        "plt.xlabel('Recent rate of Fatalities')\n",
        "plt.ylabel('Recent Incumbent party vote share')\n",
        "plt.title('relationship between falalities and incumbent vote share')"
      ],
      "execution_count": 89,
      "outputs": [
        {
          "output_type": "execute_result",
          "data": {
            "text/plain": [
              "Text(0.5, 1.0, 'relationship between falalities and incumbent vote share')"
            ]
          },
          "metadata": {
            "tags": []
          },
          "execution_count": 89
        },
        {
          "output_type": "display_data",
          "data": {
            "image/png": "[encoded data removed]",
            "text/plain": [
              "<Figure size 360x360 with 1 Axes>"
            ]
          },
          "metadata": {
            "tags": [],
            "needs_background": "light"
          }
        }
      ]
    },
    {
      "cell_type": "code",
      "metadata": {
        "id": "8cTSdKOIMAfP"
      },
      "source": [
        "#df = wrangle(DATA_PATH + 'elections/bread_peace_voting.csv')"
      ],
      "execution_count": 90,
      "outputs": []
    },
    {
      "cell_type": "markdown",
      "metadata": {
        "id": "Dek_MCFyXLq7"
      },
      "source": [
        "# II. Split Data\n",
        "\n",
        "**First** we need to split our **target vector** from our **feature matrix**."
      ]
    },
    {
      "cell_type": "code",
      "metadata": {
        "id": "8m9W00DPo9Vp"
      },
      "source": [
        "y = df['incumbent_vote_share'] # one- dimensional\n",
        "X = df[['income']] # two dimensional"
      ],
      "execution_count": 91,
      "outputs": []
    },
    {
      "cell_type": "markdown",
      "metadata": {
        "id": "DZkHRqALX2be"
      },
      "source": [
        "**Second** we need to split our dataset into **training** and **test** sets.\n",
        "\n",
        "Two strategies:\n",
        "\n",
        "- Random train-test split using [`train_test_split`](https://scikit-learn.org/stable/modules/generated/sklearn.model_selection.train_test_split.html). Generally we use 80% of the data for training, and 20% of the data for testing.\n",
        "- If you have **timeseries**, then you need to do a \"cutoff\" split."
      ]
    },
    {
      "cell_type": "code",
      "metadata": {
        "id": "RJqL21ur3sDm",
        "colab": {
          "base_uri": "https://localhost:8080/"
        },
        "outputId": "3ac1c367-c840-45ce-ce78-cdc04dc5d082"
      },
      "source": [
        "#we have a time series data, we will use cut off methods\n",
        "\n",
        "cut_off = 2008\n",
        "mask = X.index < 2008\n",
        "X_train, y_train = X.loc[mask], y.loc[mask]\n",
        "X_test, y_test = X.loc[~mask], y.loc[~mask]\n",
        "y_test"
      ],
      "execution_count": 92,
      "outputs": [
        {
          "output_type": "execute_result",
          "data": {
            "text/plain": [
              "year\n",
              "2008    46.32\n",
              "2012    52.00\n",
              "2016    48.20\n",
              "Name: incumbent_vote_share, dtype: float64"
            ]
          },
          "metadata": {
            "tags": []
          },
          "execution_count": 92
        }
      ]
    },
    {
      "cell_type": "markdown",
      "metadata": {
        "id": "KaBIqAGrElWl"
      },
      "source": [
        "Another good way to do a cut off if you do not have time series data but would want it to start from a certain row"
      ]
    },
    {
      "cell_type": "code",
      "metadata": {
        "id": "ngJw63BeEk2Q"
      },
      "source": [
        "#cutoff = int(len(X)*0.8)\n",
        "#X_train, y_train = X.iloc[:cutoff], y.iloc[:cutoff]\n",
        "#X_test, y_test = X.iloc[cutoff:], y .iloc[cutoff:]\n",
        "#X_test"
      ],
      "execution_count": 93,
      "outputs": []
    },
    {
      "cell_type": "code",
      "metadata": {
        "colab": {
          "base_uri": "https://localhost:8080/",
          "height": 542
        },
        "id": "IuDS85Y1BhfS",
        "outputId": "ec7a2f19-1277-4868-c9de-b91ef6db8e02"
      },
      "source": [
        "import plotly.express as px\n",
        "px.scatter(\n",
        "    df, \n",
        "    x = 'income',\n",
        "    y = 'incumbent_vote_share',\n",
        "    #text = 'year',\n",
        "    title = 'Trends to show the relationship between Income and Incumbent vote share',\n",
        "    trendline = 'ols',\n",
        ")"
      ],
      "execution_count": 94,
      "outputs": [
        {
          "output_type": "display_data",
          "data": {
            "text/html": [
              "<html>\n",
              "<head><meta charset=\"utf-8\" /></head>\n",
              "<body>\n",
              "    <div>\n",
              "            <script src=\"https://cdnjs.cloudflare.com/ajax/libs/mathjax/2.7.5/MathJax.js?config=TeX-AMS-MML_SVG\"></script><script type=\"text/javascript\">if (window.MathJax) {MathJax.Hub.Config({SVG: {font: \"STIX-Web\"}});}</script>\n",
              "                <script type=\"text/javascript\">window.PlotlyConfig = {MathJaxConfig: 'local'};</script>\n",
              "        <script src=\"https://cdn.plot.ly/plotly-latest.min.js\"></script>    \n",
              "            <div id=\"6093b6c1-0085-4e3b-98c9-6d4d146d6c6b\" class=\"plotly-graph-div\" style=\"height:525px; width:100%;\"></div>\n",
              "            <script type=\"text/javascript\">\n",
              "                \n",
              "                    window.PLOTLYENV=window.PLOTLYENV || {};\n",
              "                    \n",
              "                if (document.getElementById(\"6093b6c1-0085-4e3b-98c9-6d4d146d6c6b\")) {\n",
              "                    Plotly.newPlot(\n",
              "                        '6093b6c1-0085-4e3b-98c9-6d4d146d6c6b',\n",
              "                        [{\"hoverlabel\": {\"namelength\": 0}, \"hovertemplate\": \"income=%{x}<br>incumbent_vote_share=%{y}\", \"legendgroup\": \"\", \"marker\": {\"color\": \"#636efa\", \"symbol\": \"circle\"}, \"mode\": \"markers\", \"name\": \"\", \"showlegend\": false, \"type\": \"scatter\", \"x\": [2.4, 2.89, 0.85, 4.21, 3.02, 3.62, 1.08, -0.39, 3.86, 2.27, 0.38, 1.04, 2.36, 1.72, 0.1, 0.95, 0.1], \"xaxis\": \"x\", \"y\": [44.6, 57.76, 49.91, 61.34, 49.6, 61.79, 48.95, 44.7, 59.17, 53.94, 46.55, 54.74, 50.27, 51.24, 46.32, 52.0, 48.2], \"yaxis\": \"y\"}, {\"hoverlabel\": {\"namelength\": 0}, \"hovertemplate\": \"<b>OLS trendline</b><br>incumbent_vote_share = 2.974177 * income + 46.499210<br>R<sup>2</sup>=0.587186<br><br>income=%{x}<br>incumbent_vote_share=%{y} <b>(trend)</b>\", \"legendgroup\": \"\", \"marker\": {\"color\": \"#636efa\", \"symbol\": \"circle\"}, \"mode\": \"lines\", \"name\": \"\", \"showlegend\": false, \"type\": \"scatter\", \"x\": [-0.39, 0.1, 0.1, 0.38, 0.85, 0.95, 1.04, 1.08, 1.72, 2.27, 2.36, 2.4, 2.89, 3.02, 3.62, 3.86, 4.21], \"xaxis\": \"x\", \"y\": [45.339280693192286, 46.79662746660044, 46.79662746660044, 47.62939705140509, 49.027260283041485, 49.324677991900295, 49.59235392987322, 49.71132101341674, 51.6147943501131, 53.250591748836534, 53.51826768680946, 53.63723477035298, 55.09458154376114, 55.481224565277586, 57.26573081843042, 57.979533319691555, 59.02049530069738], \"yaxis\": \"y\"}],\n",
              "                        {\"legend\": {\"tracegroupgap\": 0}, \"template\": {\"data\": {\"bar\": [{\"error_x\": {\"color\": \"#2a3f5f\"}, \"error_y\": {\"color\": \"#2a3f5f\"}, \"marker\": {\"line\": {\"color\": \"#E5ECF6\", \"width\": 0.5}}, \"type\": \"bar\"}], \"barpolar\": [{\"marker\": {\"line\": {\"color\": \"#E5ECF6\", \"width\": 0.5}}, \"type\": \"barpolar\"}], \"carpet\": [{\"aaxis\": {\"endlinecolor\": \"#2a3f5f\", \"gridcolor\": \"white\", \"linecolor\": \"white\", \"minorgridcolor\": \"white\", \"startlinecolor\": \"#2a3f5f\"}, \"baxis\": {\"endlinecolor\": \"#2a3f5f\", \"gridcolor\": \"white\", \"linecolor\": \"white\", \"minorgridcolor\": \"white\", \"startlinecolor\": \"#2a3f5f\"}, \"type\": \"carpet\"}], \"choropleth\": [{\"colorbar\": {\"outlinewidth\": 0, \"ticks\": \"\"}, \"type\": \"choropleth\"}], \"contour\": [{\"colorbar\": {\"outlinewidth\": 0, \"ticks\": \"\"}, \"colorscale\": [[0.0, \"#0d0887\"], [0.1111111111111111, \"#46039f\"], [0.2222222222222222, \"#7201a8\"], [0.3333333333333333, \"#9c179e\"], [0.4444444444444444, \"#bd3786\"], [0.5555555555555556, \"#d8576b\"], [0.6666666666666666, \"#ed7953\"], [0.7777777777777778, \"#fb9f3a\"], [0.8888888888888888, \"#fdca26\"], [1.0, \"#f0f921\"]], \"type\": \"contour\"}], \"contourcarpet\": [{\"colorbar\": {\"outlinewidth\": 0, \"ticks\": \"\"}, \"type\": \"contourcarpet\"}], \"heatmap\": [{\"colorbar\": {\"outlinewidth\": 0, \"ticks\": \"\"}, \"colorscale\": [[0.0, \"#0d0887\"], [0.1111111111111111, \"#46039f\"], [0.2222222222222222, \"#7201a8\"], [0.3333333333333333, \"#9c179e\"], [0.4444444444444444, \"#bd3786\"], [0.5555555555555556, \"#d8576b\"], [0.6666666666666666, \"#ed7953\"], [0.7777777777777778, \"#fb9f3a\"], [0.8888888888888888, \"#fdca26\"], [1.0, \"#f0f921\"]], \"type\": \"heatmap\"}], \"heatmapgl\": [{\"colorbar\": {\"outlinewidth\": 0, \"ticks\": \"\"}, \"colorscale\": [[0.0, \"#0d0887\"], [0.1111111111111111, \"#46039f\"], [0.2222222222222222, \"#7201a8\"], [0.3333333333333333, \"#9c179e\"], [0.4444444444444444, \"#bd3786\"], [0.5555555555555556, \"#d8576b\"], [0.6666666666666666, \"#ed7953\"], [0.7777777777777778, \"#fb9f3a\"], [0.8888888888888888, \"#fdca26\"], [1.0, \"#f0f921\"]], \"type\": \"heatmapgl\"}], \"histogram\": [{\"marker\": {\"colorbar\": {\"outlinewidth\": 0, \"ticks\": \"\"}}, \"type\": \"histogram\"}], \"histogram2d\": [{\"colorbar\": {\"outlinewidth\": 0, \"ticks\": \"\"}, \"colorscale\": [[0.0, \"#0d0887\"], [0.1111111111111111, \"#46039f\"], [0.2222222222222222, \"#7201a8\"], [0.3333333333333333, \"#9c179e\"], [0.4444444444444444, \"#bd3786\"], [0.5555555555555556, \"#d8576b\"], [0.6666666666666666, \"#ed7953\"], [0.7777777777777778, \"#fb9f3a\"], [0.8888888888888888, \"#fdca26\"], [1.0, \"#f0f921\"]], \"type\": \"histogram2d\"}], \"histogram2dcontour\": [{\"colorbar\": {\"outlinewidth\": 0, \"ticks\": \"\"}, \"colorscale\": [[0.0, \"#0d0887\"], [0.1111111111111111, \"#46039f\"], [0.2222222222222222, \"#7201a8\"], [0.3333333333333333, \"#9c179e\"], [0.4444444444444444, \"#bd3786\"], [0.5555555555555556, \"#d8576b\"], [0.6666666666666666, \"#ed7953\"], [0.7777777777777778, \"#fb9f3a\"], [0.8888888888888888, \"#fdca26\"], [1.0, \"#f0f921\"]], \"type\": \"histogram2dcontour\"}], \"mesh3d\": [{\"colorbar\": {\"outlinewidth\": 0, \"ticks\": \"\"}, \"type\": \"mesh3d\"}], \"parcoords\": [{\"line\": {\"colorbar\": {\"outlinewidth\": 0, \"ticks\": \"\"}}, \"type\": \"parcoords\"}], \"pie\": [{\"automargin\": true, \"type\": \"pie\"}], \"scatter\": [{\"marker\": {\"colorbar\": {\"outlinewidth\": 0, \"ticks\": \"\"}}, \"type\": \"scatter\"}], \"scatter3d\": [{\"line\": {\"colorbar\": {\"outlinewidth\": 0, \"ticks\": \"\"}}, \"marker\": {\"colorbar\": {\"outlinewidth\": 0, \"ticks\": \"\"}}, \"type\": \"scatter3d\"}], \"scattercarpet\": [{\"marker\": {\"colorbar\": {\"outlinewidth\": 0, \"ticks\": \"\"}}, \"type\": \"scattercarpet\"}], \"scattergeo\": [{\"marker\": {\"colorbar\": {\"outlinewidth\": 0, \"ticks\": \"\"}}, \"type\": \"scattergeo\"}], \"scattergl\": [{\"marker\": {\"colorbar\": {\"outlinewidth\": 0, \"ticks\": \"\"}}, \"type\": \"scattergl\"}], \"scattermapbox\": [{\"marker\": {\"colorbar\": {\"outlinewidth\": 0, \"ticks\": \"\"}}, \"type\": \"scattermapbox\"}], \"scatterpolar\": [{\"marker\": {\"colorbar\": {\"outlinewidth\": 0, \"ticks\": \"\"}}, \"type\": \"scatterpolar\"}], \"scatterpolargl\": [{\"marker\": {\"colorbar\": {\"outlinewidth\": 0, \"ticks\": \"\"}}, \"type\": \"scatterpolargl\"}], \"scatterternary\": [{\"marker\": {\"colorbar\": {\"outlinewidth\": 0, \"ticks\": \"\"}}, \"type\": \"scatterternary\"}], \"surface\": [{\"colorbar\": {\"outlinewidth\": 0, \"ticks\": \"\"}, \"colorscale\": [[0.0, \"#0d0887\"], [0.1111111111111111, \"#46039f\"], [0.2222222222222222, \"#7201a8\"], [0.3333333333333333, \"#9c179e\"], [0.4444444444444444, \"#bd3786\"], [0.5555555555555556, \"#d8576b\"], [0.6666666666666666, \"#ed7953\"], [0.7777777777777778, \"#fb9f3a\"], [0.8888888888888888, \"#fdca26\"], [1.0, \"#f0f921\"]], \"type\": \"surface\"}], \"table\": [{\"cells\": {\"fill\": {\"color\": \"#EBF0F8\"}, \"line\": {\"color\": \"white\"}}, \"header\": {\"fill\": {\"color\": \"#C8D4E3\"}, \"line\": {\"color\": \"white\"}}, \"type\": \"table\"}]}, \"layout\": {\"annotationdefaults\": {\"arrowcolor\": \"#2a3f5f\", \"arrowhead\": 0, \"arrowwidth\": 1}, \"coloraxis\": {\"colorbar\": {\"outlinewidth\": 0, \"ticks\": \"\"}}, \"colorscale\": {\"diverging\": [[0, \"#8e0152\"], [0.1, \"#c51b7d\"], [0.2, \"#de77ae\"], [0.3, \"#f1b6da\"], [0.4, \"#fde0ef\"], [0.5, \"#f7f7f7\"], [0.6, \"#e6f5d0\"], [0.7, \"#b8e186\"], [0.8, \"#7fbc41\"], [0.9, \"#4d9221\"], [1, \"#276419\"]], \"sequential\": [[0.0, \"#0d0887\"], [0.1111111111111111, \"#46039f\"], [0.2222222222222222, \"#7201a8\"], [0.3333333333333333, \"#9c179e\"], [0.4444444444444444, \"#bd3786\"], [0.5555555555555556, \"#d8576b\"], [0.6666666666666666, \"#ed7953\"], [0.7777777777777778, \"#fb9f3a\"], [0.8888888888888888, \"#fdca26\"], [1.0, \"#f0f921\"]], \"sequentialminus\": [[0.0, \"#0d0887\"], [0.1111111111111111, \"#46039f\"], [0.2222222222222222, \"#7201a8\"], [0.3333333333333333, \"#9c179e\"], [0.4444444444444444, \"#bd3786\"], [0.5555555555555556, \"#d8576b\"], [0.6666666666666666, \"#ed7953\"], [0.7777777777777778, \"#fb9f3a\"], [0.8888888888888888, \"#fdca26\"], [1.0, \"#f0f921\"]]}, \"colorway\": [\"#636efa\", \"#EF553B\", \"#00cc96\", \"#ab63fa\", \"#FFA15A\", \"#19d3f3\", \"#FF6692\", \"#B6E880\", \"#FF97FF\", \"#FECB52\"], \"font\": {\"color\": \"#2a3f5f\"}, \"geo\": {\"bgcolor\": \"white\", \"lakecolor\": \"white\", \"landcolor\": \"#E5ECF6\", \"showlakes\": true, \"showland\": true, \"subunitcolor\": \"white\"}, \"hoverlabel\": {\"align\": \"left\"}, \"hovermode\": \"closest\", \"mapbox\": {\"style\": \"light\"}, \"paper_bgcolor\": \"white\", \"plot_bgcolor\": \"#E5ECF6\", \"polar\": {\"angularaxis\": {\"gridcolor\": \"white\", \"linecolor\": \"white\", \"ticks\": \"\"}, \"bgcolor\": \"#E5ECF6\", \"radialaxis\": {\"gridcolor\": \"white\", \"linecolor\": \"white\", \"ticks\": \"\"}}, \"scene\": {\"xaxis\": {\"backgroundcolor\": \"#E5ECF6\", \"gridcolor\": \"white\", \"gridwidth\": 2, \"linecolor\": \"white\", \"showbackground\": true, \"ticks\": \"\", \"zerolinecolor\": \"white\"}, \"yaxis\": {\"backgroundcolor\": \"#E5ECF6\", \"gridcolor\": \"white\", \"gridwidth\": 2, \"linecolor\": \"white\", \"showbackground\": true, \"ticks\": \"\", \"zerolinecolor\": \"white\"}, \"zaxis\": {\"backgroundcolor\": \"#E5ECF6\", \"gridcolor\": \"white\", \"gridwidth\": 2, \"linecolor\": \"white\", \"showbackground\": true, \"ticks\": \"\", \"zerolinecolor\": \"white\"}}, \"shapedefaults\": {\"line\": {\"color\": \"#2a3f5f\"}}, \"ternary\": {\"aaxis\": {\"gridcolor\": \"white\", \"linecolor\": \"white\", \"ticks\": \"\"}, \"baxis\": {\"gridcolor\": \"white\", \"linecolor\": \"white\", \"ticks\": \"\"}, \"bgcolor\": \"#E5ECF6\", \"caxis\": {\"gridcolor\": \"white\", \"linecolor\": \"white\", \"ticks\": \"\"}}, \"title\": {\"x\": 0.05}, \"xaxis\": {\"automargin\": true, \"gridcolor\": \"white\", \"linecolor\": \"white\", \"ticks\": \"\", \"title\": {\"standoff\": 15}, \"zerolinecolor\": \"white\", \"zerolinewidth\": 2}, \"yaxis\": {\"automargin\": true, \"gridcolor\": \"white\", \"linecolor\": \"white\", \"ticks\": \"\", \"title\": {\"standoff\": 15}, \"zerolinecolor\": \"white\", \"zerolinewidth\": 2}}}, \"title\": {\"text\": \"Trends to show the relationship between Income and Incumbent vote share\"}, \"xaxis\": {\"anchor\": \"y\", \"domain\": [0.0, 1.0], \"title\": {\"text\": \"income\"}}, \"yaxis\": {\"anchor\": \"x\", \"domain\": [0.0, 1.0], \"title\": {\"text\": \"incumbent_vote_share\"}}},\n",
              "                        {\"responsive\": true}\n",
              "                    ).then(function(){\n",
              "                            \n",
              "var gd = document.getElementById('6093b6c1-0085-4e3b-98c9-6d4d146d6c6b');\n",
              "var x = new MutationObserver(function (mutations, observer) {{\n",
              "        var display = window.getComputedStyle(gd).display;\n",
              "        if (!display || display === 'none') {{\n",
              "            console.log([gd, 'removed!']);\n",
              "            Plotly.purge(gd);\n",
              "            observer.disconnect();\n",
              "        }}\n",
              "}});\n",
              "\n",
              "// Listen for the removal of the full notebook cells\n",
              "var notebookContainer = gd.closest('#notebook-container');\n",
              "if (notebookContainer) {{\n",
              "    x.observe(notebookContainer, {childList: true});\n",
              "}}\n",
              "\n",
              "// Listen for the clearing of the current output cell\n",
              "var outputEl = gd.closest('.output');\n",
              "if (outputEl) {{\n",
              "    x.observe(outputEl, {childList: true});\n",
              "}}\n",
              "\n",
              "                        })\n",
              "                };\n",
              "                \n",
              "            </script>\n",
              "        </div>\n",
              "</body>\n",
              "</html>"
            ]
          },
          "metadata": {
            "tags": []
          }
        }
      ]
    },
    {
      "cell_type": "markdown",
      "metadata": {
        "id": "7iSEjfzTdJtS"
      },
      "source": [
        "# III. Establish Baseline"
      ]
    },
    {
      "cell_type": "code",
      "metadata": {
        "id": "VlB3cu_l3s1J",
        "colab": {
          "base_uri": "https://localhost:8080/"
        },
        "outputId": "cbec8941-2432-47dd-917e-b7e1cfcd86ef"
      },
      "source": [
        "from sklearn.metrics import mean_absolute_error\n",
        "y_pred = [y_train.mean()] * len(y_train)\n",
        "print('Mean Incumbent Vote Share:', y_train.mean())\n",
        "print('Baseline MAE:', mean_absolute_error(y_train, y_pred))"
      ],
      "execution_count": 95,
      "outputs": [
        {
          "output_type": "stream",
          "text": [
            "Mean Incumbent Vote Share: 52.46857142857142\n",
            "Baseline MAE: 4.846938775510204\n"
          ],
          "name": "stdout"
        }
      ]
    },
    {
      "cell_type": "markdown",
      "metadata": {
        "id": "PzZqgSfpd6Z9"
      },
      "source": [
        "# IV. Build Model\n",
        "\n",
        "-"
      ]
    },
    {
      "cell_type": "code",
      "metadata": {
        "id": "YK9UgruML0sL"
      },
      "source": [
        "\n"
      ],
      "execution_count": 96,
      "outputs": []
    },
    {
      "cell_type": "code",
      "metadata": {
        "id": "S507Ttw3yatE"
      },
      "source": [
        ""
      ],
      "execution_count": null,
      "outputs": []
    },
    {
      "cell_type": "code",
      "metadata": {
        "colab": {
          "base_uri": "https://localhost:8080/",
          "height": 204
        },
        "id": "W0LCU3E4ybLm",
        "outputId": "6d8897f4-097f-48ed-cb51-a961699144ad"
      },
      "source": [
        "#import the class\n",
        "from sklearn.linear_model import LinearRegression\n",
        "\n",
        "#instatiate the class\n",
        "model = LinearRegression()\n",
        "\n",
        "#fit the model\n",
        "model.fit(XTT_train, y_train);"
      ],
      "execution_count": 1,
      "outputs": [
        {
          "output_type": "error",
          "ename": "NameError",
          "evalue": "ignored",
          "traceback": [
            "\u001b[0;31m---------------------------------------------------------------------------\u001b[0m",
            "\u001b[0;31mNameError\u001b[0m                                 Traceback (most recent call last)",
            "\u001b[0;32m<ipython-input-1-b70366844309>\u001b[0m in \u001b[0;36m<module>\u001b[0;34m()\u001b[0m\n\u001b[1;32m      6\u001b[0m \u001b[0;34m\u001b[0m\u001b[0m\n\u001b[1;32m      7\u001b[0m \u001b[0;31m#fit the model\u001b[0m\u001b[0;34m\u001b[0m\u001b[0;34m\u001b[0m\u001b[0;34m\u001b[0m\u001b[0m\n\u001b[0;32m----> 8\u001b[0;31m \u001b[0mmodel\u001b[0m\u001b[0;34m.\u001b[0m\u001b[0mfit\u001b[0m\u001b[0;34m(\u001b[0m\u001b[0mXTT_train\u001b[0m\u001b[0;34m,\u001b[0m \u001b[0my_train\u001b[0m\u001b[0;34m)\u001b[0m\u001b[0;34m;\u001b[0m\u001b[0;34m\u001b[0m\u001b[0;34m\u001b[0m\u001b[0m\n\u001b[0m",
            "\u001b[0;31mNameError\u001b[0m: name 'XTT_train' is not defined"
          ]
        }
      ]
    },
    {
      "cell_type": "code",
      "metadata": {
        "id": "Jh8-iY_E3t5A"
      },
      "source": [
        ""
      ],
      "execution_count": 96,
      "outputs": []
    },
    {
      "cell_type": "markdown",
      "metadata": {
        "id": "kKS9OY-0eYyU"
      },
      "source": [
        "# V. Check Metrics\n",
        "\n",
        "## Mean Absolute Error\n",
        "\n",
        "The unit of measurement is the same as the unit of measurment for your target (in this case, vote share [%])."
      ]
    },
    {
      "cell_type": "code",
      "metadata": {
        "id": "jjsNKDYY3wws",
        "colab": {
          "base_uri": "https://localhost:8080/"
        },
        "outputId": "67f12bbf-c5cf-4432-8ed4-db1955c2b2e5"
      },
      "source": [
        "print('Training MAE', mean_absolute_error(y_train, model.predict(X_train)))\n",
        "print('Test MAE', mean_absolute_error(y_test, model.predict(X_test)))"
      ],
      "execution_count": 97,
      "outputs": [
        {
          "output_type": "stream",
          "text": [
            "Training MAE 2.645479454315596\n",
            "Test MAE 1.7998717748375863\n"
          ],
          "name": "stdout"
        }
      ]
    },
    {
      "cell_type": "markdown",
      "metadata": {
        "id": "gbbgj--egYyJ"
      },
      "source": [
        "## Root Mean Squared Error\n",
        "\n",
        "The unit of measurement is the same as the unit of measurment for your target (in this case, vote share [%])."
      ]
    },
    {
      "cell_type": "code",
      "metadata": {
        "id": "D8RUCk0u3x9L",
        "colab": {
          "base_uri": "https://localhost:8080/"
        },
        "outputId": "9da5dd17-ba8a-4774-8f43-263c29a7475f"
      },
      "source": [
        "from sklearn.metrics import mean_squared_error\n",
        "print('Training RMSE:', mean_squared_error(y_train, model.predict(X_train), squared = False))\n",
        "print('Test RMSE', mean_squared_error(y_test, model.predict(X_test), squared = False))"
      ],
      "execution_count": 98,
      "outputs": [
        {
          "output_type": "stream",
          "text": [
            "Training RMSE: 3.6773568396257406\n",
            "Test RMSE 2.180652086836372\n"
          ],
          "name": "stdout"
        }
      ]
    },
    {
      "cell_type": "markdown",
      "metadata": {
        "id": "JiG46uC-kQGW"
      },
      "source": [
        "## $R^2$ Score\n",
        "\n",
        "TL;DR: Usually ranges between 0 (bad) and 1 (good)."
      ]
    },
    {
      "cell_type": "code",
      "metadata": {
        "id": "23FV-p8bh61A",
        "colab": {
          "base_uri": "https://localhost:8080/",
          "height": 426,
          "referenced_widgets": [
            "491c376616ea463a8cdd9f03deb86501",
            "bc3eae395f684e85852fb250d47d1a1e",
            "afbe116a182347da8a4199d32fd8f570",
            "aa3931dd2e5745b79448dff46a4c034a",
            "08d992f79e6d40e7b4c702e7d57983cc",
            "dfef88e96afa47e89f64e8b293e0e753",
            "a3a154f94a644fa88ab32698fab8255e",
            "47e30a579a64467791feb809e58a6fe7",
            "96187f6ac980454aaeae404342c0c06f",
            "3db23f5f3ebb4fbfb1671885b522b882"
          ]
        },
        "outputId": "cef1e4c7-e47b-4352-88a4-30a04caefc3c"
      },
      "source": [
        "class BruteForceRegressor(BaseEstimator, RegressorMixin):\n",
        "    def __init__(self, m=0, b=0):\n",
        "        self.m = m\n",
        "        self.b = b\n",
        "        self.mean = 0\n",
        "        \n",
        "    def fit(self, X, y):\n",
        "        self.mean = np.mean(y)\n",
        "        return self\n",
        "    \n",
        "    def predict(self, X, return_mean=True):\n",
        "        if return_mean:\n",
        "            return [self.mean] * len(X)\n",
        "        else:\n",
        "            return X * self.m + self.b\n",
        "\n",
        "def plot(slope, intercept):\n",
        "    # Assign data to variables\n",
        "    x = df['income']\n",
        "    y = df['incumbent_vote_share']\n",
        "    \n",
        "    # Create figure\n",
        "    fig, (ax1, ax2) = plt.subplots(1, 2, figsize=(20,6))\n",
        "    \n",
        "    # Set ax limits\n",
        "    mar = 0.2\n",
        "    x_lim = floor(x.min() - x.min()*mar), ceil(x.max() + x.min()*mar)\n",
        "    y_lim = floor(y.min() - y.min()*mar), ceil(y.max() + y.min()*mar)\n",
        "    \n",
        "    # Instantiate and train model\n",
        "    bfr = BruteForceRegressor(slope, intercept)\n",
        "    bfr.fit(x, y)\n",
        "    \n",
        "    # ax1   \n",
        "    ## Plot data\n",
        "    ax1.set_xlim(x_lim)\n",
        "    ax1.set_ylim(y_lim)\n",
        "    ax1.scatter(x, y)\n",
        "    \n",
        "    ## Plot base model\n",
        "    ax1.axhline(bfr.mean, color='orange', label='baseline model')\n",
        "    \n",
        "    ## Plot residual lines\n",
        "    y_base_pred = bfr.predict(x)\n",
        "    ss_base = mean_squared_error(y, y_base_pred) * len(y)\n",
        "    for x_i, y_i, yp_i in zip(x, y, y_base_pred):\n",
        "        ax1.plot([x_i, x_i], [y_i, yp_i], \n",
        "                 color='gray', linestyle='--', alpha=0.75)\n",
        "    \n",
        "    ## Formatting\n",
        "    ax1.legend()\n",
        "    ax1.set_title(f'Sum of Squares: {np.round(ss_base, 2)}')\n",
        "    ax1.set_xlabel('Growth in Personal Incomes')\n",
        "    ax1.set_ylabel('Incumbent Party Vote Share [%]')\n",
        "\n",
        "    # ax2\n",
        "\n",
        "    ax2.set_xlim(x_lim)\n",
        "    ax2.set_ylim(y_lim)\n",
        "    ## Plot data\n",
        "    ax2.scatter(x, y)\n",
        "    \n",
        "    ## Plot model\n",
        "    x_model = np.linspace(*ax2.get_xlim(), 10)\n",
        "    y_model = bfr.predict(x_model, return_mean=False)\n",
        "    ax2.plot(x_model, y_model, color='green', label='our model')\n",
        "    for x_coord, y_coord in zip(x, y):\n",
        "        ax2.plot([x_coord, x_coord], [y_coord, x_coord * slope + intercept], \n",
        "                 color='gray', linestyle='--', alpha=0.75)   \n",
        "    \n",
        "    ss_ours = mean_squared_error(y, bfr.predict(x, return_mean=False)) * len(y)\n",
        "    \n",
        "    ## Formatting\n",
        "    ax2.legend()\n",
        "    ax2.set_title(f'Sum of Squares: {np.round(ss_ours, 2)}')\n",
        "    ax2.set_xlabel('Growth in Personal Incomes')\n",
        "    ax2.set_ylabel('Incumbent Party Vote Share [%]')\n",
        "\n",
        "y = df['incumbent_vote_share']\n",
        "slope_slider = FloatSlider(min=-5, max=5, step=0.5, value=0)\n",
        "intercept_slider = FloatSlider(min=int(y.min()), max=y.max(), step=2, value=y.mean())\n",
        "    \n",
        "interactive(plot, slope=slope_slider, intercept=intercept_slider)"
      ],
      "execution_count": 99,
      "outputs": [
        {
          "output_type": "display_data",
          "data": {
            "application/vnd.jupyter.widget-view+json": {
              "model_id": "491c376616ea463a8cdd9f03deb86501",
              "version_minor": 0,
              "version_major": 2
            },
            "text/plain": [
              "interactive(children=(FloatSlider(value=0.0, description='slope', max=5.0, min=-5.0, step=0.5), FloatSlider(va…"
            ]
          },
          "metadata": {
            "tags": []
          }
        }
      ]
    },
    {
      "cell_type": "code",
      "metadata": {
        "id": "96hWWlRcdtFb",
        "colab": {
          "base_uri": "https://localhost:8080/"
        },
        "outputId": "a92c470d-dee5-46d8-98f8-a6676c1b6021"
      },
      "source": [
        "from sklearn.metrics import r2_score\n",
        "print('Training R2', r2_score(y_train, model.predict(X_train)))\n",
        "print('Test R2', r2_score(y_test, model.predict(X_test)))"
      ],
      "execution_count": 104,
      "outputs": [
        {
          "output_type": "stream",
          "text": [
            "Training R2 0.5663905156461234\n",
            "Test R2 0.14809080764669635\n"
          ],
          "name": "stdout"
        }
      ]
    },
    {
      "cell_type": "code",
      "metadata": {
        "colab": {
          "base_uri": "https://localhost:8080/"
        },
        "id": "6Ed0VJDptHF6",
        "outputId": "aaa61ba7-7d78-4253-bed3-6f216d029987"
      },
      "source": [
        "#Another way to print r2 score\n",
        "print('Training R2', model.score(X_train, y_train))\n",
        "print('Test R2', model.score(X_test, y_test))"
      ],
      "execution_count": 105,
      "outputs": [
        {
          "output_type": "stream",
          "text": [
            "Training R2 0.5663905156461234\n",
            "Test R2 0.14809080764669635\n"
          ],
          "name": "stdout"
        }
      ]
    },
    {
      "cell_type": "markdown",
      "metadata": {
        "id": "6eHzIsbYqcgo"
      },
      "source": [
        "# VI. Communicate Results\n",
        "\n",
        "**Challenge:** How can we find the coefficients and intercept for our `model`?"
      ]
    },
    {
      "cell_type": "code",
      "metadata": {
        "id": "U9reRJKE7T-6"
      },
      "source": [
        "MULIPLE linear regression"
      ],
      "execution_count": null,
      "outputs": []
    },
    {
      "cell_type": "markdown",
      "metadata": {
        "id": "e7JvPP_UxvrM"
      },
      "source": [
        ""
      ]
    },
    {
      "cell_type": "code",
      "metadata": {
        "id": "YNiYeF0qxuTb"
      },
      "source": [
        "y = df['incumbent_vote_share'] # one- dimensional\n",
        "X = df[['income', 'fatalities']] # two dimensional"
      ],
      "execution_count": 108,
      "outputs": []
    },
    {
      "cell_type": "code",
      "metadata": {
        "colab": {
          "base_uri": "https://localhost:8080/"
        },
        "id": "6ZNNJ6PgyKxP",
        "outputId": "5ecd76fc-7cb2-4c4b-b050-7397dd66b4a9"
      },
      "source": [
        "cut_off = 2008\n",
        "mask = X.index < 2008\n",
        "X_train, y_train = X.loc[mask], y.loc[mask]\n",
        "X_test, y_test = X.loc[~mask], y.loc[~mask]\n",
        "y_test"
      ],
      "execution_count": 109,
      "outputs": [
        {
          "output_type": "execute_result",
          "data": {
            "text/plain": [
              "year\n",
              "2008    46.32\n",
              "2012    52.00\n",
              "2016    48.20\n",
              "Name: incumbent_vote_share, dtype: float64"
            ]
          },
          "metadata": {
            "tags": []
          },
          "execution_count": 109
        }
      ]
    },
    {
      "cell_type": "code",
      "metadata": {
        "id": "fRDS1oZly07C"
      },
      "source": [
        "#import the class\n",
        "from sklearn.linear_model import LinearRegression\n",
        "\n",
        "#instatiate the class\n",
        "model = LinearRegression()\n",
        "\n",
        "#fit the model\n",
        "model.fit(X_train, y_train);"
      ],
      "execution_count": 110,
      "outputs": []
    },
    {
      "cell_type": "code",
      "metadata": {
        "colab": {
          "base_uri": "https://localhost:8080/"
        },
        "id": "ZUzrtEAFy6xa",
        "outputId": "a105fd6f-0099-427f-eb5b-4cce54d9aa11"
      },
      "source": [
        "from sklearn.metrics import r2_score\n",
        "print('Training R2', r2_score(y_train, model.predict(X_train)))\n",
        "print('Test R2', r2_score(y_test, model.predict(X_test)))"
      ],
      "execution_count": 111,
      "outputs": [
        {
          "output_type": "stream",
          "text": [
            "Training R2 0.8739958896016927\n",
            "Test R2 0.3792995526663848\n"
          ],
          "name": "stdout"
        }
      ]
    },
    {
      "cell_type": "markdown",
      "metadata": {
        "id": "T-aQ1Nvo4ruk"
      },
      "source": [
        "from statsmodels.formula.api import ols"
      ]
    },
    {
      "cell_type": "code",
      "metadata": {
        "id": "hJPpvsnSy940"
      },
      "source": [
        ""
      ],
      "execution_count": null,
      "outputs": []
    },
    {
      "cell_type": "code",
      "metadata": {
        "colab": {
          "base_uri": "https://localhost:8080/",
          "height": 35
        },
        "id": "PiRozwfjzEhE",
        "outputId": "d3c546d5-170f-4032-ce46-f5f3ad680af7"
      },
      "source": [
        "f'Vote_shares = {model.intercept_} + {model.coef_[0]} *income + {model.coef_[1]}  * fatalities' "
      ],
      "execution_count": 117,
      "outputs": [
        {
          "output_type": "execute_result",
          "data": {
            "application/vnd.google.colaboratory.intrinsic+json": {
              "type": "string"
            },
            "text/plain": [
              "'Vote_shares = 46.25489966153873 + 3.5900473494560536 *income + -0.05315709351049324  * fatalities'"
            ]
          },
          "metadata": {
            "tags": []
          },
          "execution_count": 117
        }
      ]
    }
  ]
}